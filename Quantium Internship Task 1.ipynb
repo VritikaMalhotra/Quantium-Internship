{
 "cells": [
  {
   "cell_type": "code",
   "execution_count": 16,
   "metadata": {},
   "outputs": [],
   "source": [
    "#Importing required libraries\n",
    "\n",
    "import pandas as pd\n",
    "import numpy as np\n",
    "import re\n",
    "from datetime import date, timedelta\n",
    "import matplotlib.pyplot as plt\n",
    "import matplotlib.style as style\n",
    "import seaborn as sns"
   ]
  },
  {
   "cell_type": "code",
   "execution_count": 2,
   "metadata": {},
   "outputs": [],
   "source": [
    "#Reading Purchase behaviour file\n",
    "\n",
    "df_purchase_behaviour = pd.read_csv('QVI_purchase_behaviour.csv')"
   ]
  },
  {
   "cell_type": "code",
   "execution_count": 3,
   "metadata": {},
   "outputs": [],
   "source": [
    "#Reading Transaction data file\n",
    "\n",
    "df_transaction_data = pd.read_excel('QVI_transaction_data.xlsx')"
   ]
  },
  {
   "cell_type": "code",
   "execution_count": 4,
   "metadata": {},
   "outputs": [],
   "source": [
    "#Converting the Number of days from origin to date-time in transaction data\n",
    "\n",
    "start = date(1899,12,30)\n",
    "\n",
    "new_date_format = []\n",
    "\n",
    "for date in df_transaction_data[\"DATE\"]:\n",
    "    days = timedelta(date)\n",
    "    new_date_format.append(start + days)\n",
    "    \n",
    "df_transaction_data['DATE'] = new_date_format"
   ]
  },
  {
   "cell_type": "code",
   "execution_count": 5,
   "metadata": {},
   "outputs": [
    {
     "data": {
      "text/plain": [
       "{'Natural': 6049,\n",
       " 'Chip': 18644,\n",
       " 'Compny': 1467,\n",
       " 'SeaSalt': 1467,\n",
       " 'CCs': 4550,\n",
       " 'Nacho': 4657,\n",
       " 'Cheese': 27889,\n",
       " 'Smiths': 28859,\n",
       " 'Crinkle': 23959,\n",
       " 'Cut': 20753,\n",
       " 'Chips': 49769,\n",
       " 'Chicken': 18576,\n",
       " 'Thinly': 7506,\n",
       " 'S': 2933,\n",
       " 'Cream': 16925,\n",
       " 'Onion': 6115,\n",
       " 'Kettle': 41287,\n",
       " 'Tortilla': 9579,\n",
       " 'ChpsHny': 3295,\n",
       " 'Jlpno': 3295,\n",
       " 'Chili': 3295,\n",
       " 'Old': 9323,\n",
       " 'El': 9323,\n",
       " 'Paso': 9323,\n",
       " 'Salsa': 18093,\n",
       " 'Dip': 9323,\n",
       " 'Tomato': 7668,\n",
       " 'Mild': 6047,\n",
       " 'Salt': 24718,\n",
       " 'Vinegar': 12401,\n",
       " 'Grain': 6271,\n",
       " 'Waves': 6271,\n",
       " 'Sweet': 11059,\n",
       " 'Chilli': 15389,\n",
       " 'Doritos': 24961,\n",
       " 'Corn': 22062,\n",
       " 'Mexican': 3203,\n",
       " 'Jalapeno': 3203,\n",
       " 'Sour': 13881,\n",
       " 'Chives': 10950,\n",
       " 'Sensations': 9428,\n",
       " 'Siracha': 3126,\n",
       " 'Lime': 9346,\n",
       " 'Twisties': 9453,\n",
       " 'WW': 10319,\n",
       " 'Thins': 14074,\n",
       " 'Light': 3187,\n",
       " 'Tangy': 6331,\n",
       " 'Original': 21559,\n",
       " 'Burger': 4732,\n",
       " 'Rings': 3079,\n",
       " 'NCC': 1418,\n",
       " 'Garden': 1418,\n",
       " 'Southern': 3171,\n",
       " 'Cheezels': 4602,\n",
       " 'Box': 1453,\n",
       " 'Infzns': 3143,\n",
       " 'Crn': 3143,\n",
       " 'Crnchers': 3143,\n",
       " 'Gcamole': 3143,\n",
       " 'Sea': 14144,\n",
       " 'And': 6372,\n",
       " 'Red': 5884,\n",
       " 'Rock': 5884,\n",
       " 'Deli': 5884,\n",
       " 'Thai': 4736,\n",
       " 'Pringles': 25101,\n",
       " 'Sthrn': 3082,\n",
       " 'FriedChicken': 3082,\n",
       " 'Spcy': 3176,\n",
       " 'BBQ': 9433,\n",
       " 'SR': 2983,\n",
       " 'Mzzrlla': 1457,\n",
       " 'Originl': 1440,\n",
       " 'saltd': 1440,\n",
       " 'Sp': 1497,\n",
       " 'Truffle': 1497,\n",
       " 'Swt': 7986,\n",
       " 'Chli': 1460,\n",
       " 'Mexicana': 3114,\n",
       " 'French': 2855,\n",
       " 'OnionDip': 1437,\n",
       " 'ChipCo': 3009,\n",
       " 'Hony': 1459,\n",
       " 'Soy': 6120,\n",
       " 'Chckn': 1459,\n",
       " 'Dorito': 3184,\n",
       " 'Chp': 3184,\n",
       " 'Supreme': 10962,\n",
       " 'Roast': 1518,\n",
       " 'Mozzarella': 3303,\n",
       " 'Basil': 3303,\n",
       " 'Pesto': 3303,\n",
       " 'Infuzions': 11056,\n",
       " 'SweetChili': 3241,\n",
       " 'PotatoMix': 3241,\n",
       " 'Camembert': 3218,\n",
       " 'Fig': 3218,\n",
       " 'Smith': 2962,\n",
       " 'Mac': 1511,\n",
       " 'N': 1511,\n",
       " 'Honey': 4660,\n",
       " 'Seasonedchicken': 3113,\n",
       " 'Rib': 3173,\n",
       " 'Prawn': 3173,\n",
       " 'Crackers': 3173,\n",
       " 'GrnWves': 1467,\n",
       " 'Plus': 1467,\n",
       " 'Btroot': 1467,\n",
       " 'Jam': 1467,\n",
       " 'Tyrrells': 6441,\n",
       " 'Crisps': 12606,\n",
       " 'Lightly': 6247,\n",
       " 'Salted': 6247,\n",
       " 'Medium': 2878,\n",
       " '135g': 3256,\n",
       " 'Pot': 3256,\n",
       " 'SourCream': 6295,\n",
       " 'Chnky': 3124,\n",
       " 'Tom': 3124,\n",
       " 'Ht': 3124,\n",
       " 'Cobs': 9692,\n",
       " 'Popd': 9692,\n",
       " 'Chlli': 3268,\n",
       " 'Sr': 3268,\n",
       " 'Woolworths': 4436,\n",
       " 'Co': 1571,\n",
       " 'Tmato': 1571,\n",
       " 'Hrb': 1571,\n",
       " 'Spce': 1571,\n",
       " 'Chs': 2959,\n",
       " 'Fries': 1417,\n",
       " 'Potato': 4646,\n",
       " 'Med': 3113,\n",
       " 'RRD': 11893,\n",
       " 'Coconut': 1505,\n",
       " 'Hot': 3228,\n",
       " 'Spicy': 3228,\n",
       " 'Crm': 3158,\n",
       " 'Crnkle': 3232,\n",
       " 'Orgnl': 3232,\n",
       " 'Big': 3232,\n",
       " 'Bag': 3232,\n",
       " 'Maple': 3082,\n",
       " 'D': 1468,\n",
       " 'Style': 1468,\n",
       " 'Crips': 3103,\n",
       " 'Stacked': 1486,\n",
       " 'CutSalt': 1439,\n",
       " 'Vinegr': 2989,\n",
       " 'Tostitos': 9470,\n",
       " 'Barbecue': 1488,\n",
       " 'Cheetos': 2926,\n",
       " 'Puffs': 1447,\n",
       " 'Splash': 3251,\n",
       " 'Of': 3251,\n",
       " 'ChpsBtroot': 3145,\n",
       " 'Ricotta': 3145,\n",
       " 'Tasty': 1538,\n",
       " 'Smoked': 3144,\n",
       " 'Chipotle': 3144,\n",
       " 'Barbeque': 3209,\n",
       " 'Mystery': 3113,\n",
       " 'Flavour': 3113,\n",
       " 'Ched': 3267,\n",
       " 'Snbts': 1575,\n",
       " 'Whlgrn': 1575,\n",
       " 'Cheddr': 1575,\n",
       " 'Mstrd': 1575,\n",
       " 'Bacon': 1478,\n",
       " 'Balls': 1478,\n",
       " 'Slt': 3094,\n",
       " 'Vingar': 3094,\n",
       " 'Herbs': 3133,\n",
       " 'Veg': 3133,\n",
       " 'Strws': 3133,\n",
       " 'ChpsFeta': 3137,\n",
       " 'Garlic': 4571,\n",
       " 'Mango': 1506,\n",
       " 'Chutny': 1506,\n",
       " 'Papadums': 1506,\n",
       " 'Steak': 1454,\n",
       " 'Chimuchurri': 1454,\n",
       " 'Sunbites': 1431,\n",
       " 'Whlegrn': 1431,\n",
       " 'Frch': 1431,\n",
       " 'Onin': 1431,\n",
       " 'Snag': 1502,\n",
       " 'Sauce': 1502,\n",
       " 'OnionStacked': 1482,\n",
       " 'Pepper': 1472,\n",
       " 'Chikn': 1433,\n",
       " 'Aioli': 1433,\n",
       " 'Slow': 1525,\n",
       " 'Rst': 1525,\n",
       " 'Pork': 1525,\n",
       " 'Belly': 1525,\n",
       " 'Pc': 1430,\n",
       " 'Bolognese': 1450}"
      ]
     },
     "execution_count": 5,
     "metadata": {},
     "output_type": "execute_result"
    }
   ],
   "source": [
    "#Generating the fequency chart for every word present in the product name in transaction data.\n",
    "\n",
    "pname = df_transaction_data['PROD_NAME']\n",
    "pname = list(pname)\n",
    "\n",
    "product_name = []\n",
    "\n",
    "for product in pname :\n",
    "    product_name.append(product[:-4])\n",
    "    \n",
    "product_freq = {}    \n",
    "\n",
    "for item in product_name:\n",
    "    wordList = re.sub(\"[^\\w]\", \" \",  item).split()\n",
    "    for word in wordList:\n",
    "        if word not in product_freq:\n",
    "            product_freq[word] = 0\n",
    "        else:\n",
    "            product_freq[word] += 1\n",
    "            \n",
    "product_freq"
   ]
  },
  {
   "cell_type": "code",
   "execution_count": 6,
   "metadata": {},
   "outputs": [],
   "source": [
    "#Sorting product frequency in descinding order acording to its value.\n",
    "\n",
    "from collections import OrderedDict\n",
    "\n",
    "product_freq = OrderedDict(sorted(product_freq.items(), key=lambda kv: kv[1], reverse=True))"
   ]
  },
  {
   "cell_type": "code",
   "execution_count": 7,
   "metadata": {},
   "outputs": [],
   "source": [
    "#Removing products from the transaction data dataframe which have Salsa present in its product name.\n",
    "\n",
    "df_transaction_data.drop(df_transaction_data[df_transaction_data['PROD_NAME'].str.contains('Salsa')].index, inplace=True)"
   ]
  },
  {
   "cell_type": "code",
   "execution_count": 8,
   "metadata": {},
   "outputs": [
    {
     "data": {
      "text/html": [
       "<div>\n",
       "<style scoped>\n",
       "    .dataframe tbody tr th:only-of-type {\n",
       "        vertical-align: middle;\n",
       "    }\n",
       "\n",
       "    .dataframe tbody tr th {\n",
       "        vertical-align: top;\n",
       "    }\n",
       "\n",
       "    .dataframe thead th {\n",
       "        text-align: right;\n",
       "    }\n",
       "</style>\n",
       "<table border=\"1\" class=\"dataframe\">\n",
       "  <thead>\n",
       "    <tr style=\"text-align: right;\">\n",
       "      <th></th>\n",
       "      <th>count</th>\n",
       "      <th>mean</th>\n",
       "      <th>std</th>\n",
       "      <th>min</th>\n",
       "      <th>25%</th>\n",
       "      <th>50%</th>\n",
       "      <th>75%</th>\n",
       "      <th>max</th>\n",
       "    </tr>\n",
       "  </thead>\n",
       "  <tbody>\n",
       "    <tr>\n",
       "      <th>STORE_NBR</th>\n",
       "      <td>246742.0</td>\n",
       "      <td>135.051098</td>\n",
       "      <td>76.787096</td>\n",
       "      <td>1.0</td>\n",
       "      <td>70.00</td>\n",
       "      <td>130.0</td>\n",
       "      <td>203.00</td>\n",
       "      <td>272.0</td>\n",
       "    </tr>\n",
       "    <tr>\n",
       "      <th>LYLTY_CARD_NBR</th>\n",
       "      <td>246742.0</td>\n",
       "      <td>135530.984956</td>\n",
       "      <td>80715.280765</td>\n",
       "      <td>1000.0</td>\n",
       "      <td>70015.00</td>\n",
       "      <td>130367.0</td>\n",
       "      <td>203084.00</td>\n",
       "      <td>2373711.0</td>\n",
       "    </tr>\n",
       "    <tr>\n",
       "      <th>TXN_ID</th>\n",
       "      <td>246742.0</td>\n",
       "      <td>135131.098848</td>\n",
       "      <td>78147.717692</td>\n",
       "      <td>1.0</td>\n",
       "      <td>67569.25</td>\n",
       "      <td>135183.0</td>\n",
       "      <td>202653.75</td>\n",
       "      <td>2415841.0</td>\n",
       "    </tr>\n",
       "    <tr>\n",
       "      <th>PROD_NBR</th>\n",
       "      <td>246742.0</td>\n",
       "      <td>56.351789</td>\n",
       "      <td>33.695428</td>\n",
       "      <td>1.0</td>\n",
       "      <td>26.00</td>\n",
       "      <td>53.0</td>\n",
       "      <td>87.00</td>\n",
       "      <td>114.0</td>\n",
       "    </tr>\n",
       "    <tr>\n",
       "      <th>PROD_QTY</th>\n",
       "      <td>246742.0</td>\n",
       "      <td>1.908062</td>\n",
       "      <td>0.659831</td>\n",
       "      <td>1.0</td>\n",
       "      <td>2.00</td>\n",
       "      <td>2.0</td>\n",
       "      <td>2.00</td>\n",
       "      <td>200.0</td>\n",
       "    </tr>\n",
       "    <tr>\n",
       "      <th>TOT_SALES</th>\n",
       "      <td>246742.0</td>\n",
       "      <td>7.321322</td>\n",
       "      <td>3.077828</td>\n",
       "      <td>1.7</td>\n",
       "      <td>5.80</td>\n",
       "      <td>7.4</td>\n",
       "      <td>8.80</td>\n",
       "      <td>650.0</td>\n",
       "    </tr>\n",
       "  </tbody>\n",
       "</table>\n",
       "</div>"
      ],
      "text/plain": [
       "                   count           mean           std     min       25%  \\\n",
       "STORE_NBR       246742.0     135.051098     76.787096     1.0     70.00   \n",
       "LYLTY_CARD_NBR  246742.0  135530.984956  80715.280765  1000.0  70015.00   \n",
       "TXN_ID          246742.0  135131.098848  78147.717692     1.0  67569.25   \n",
       "PROD_NBR        246742.0      56.351789     33.695428     1.0     26.00   \n",
       "PROD_QTY        246742.0       1.908062      0.659831     1.0      2.00   \n",
       "TOT_SALES       246742.0       7.321322      3.077828     1.7      5.80   \n",
       "\n",
       "                     50%        75%        max  \n",
       "STORE_NBR          130.0     203.00      272.0  \n",
       "LYLTY_CARD_NBR  130367.0  203084.00  2373711.0  \n",
       "TXN_ID          135183.0  202653.75  2415841.0  \n",
       "PROD_NBR            53.0      87.00      114.0  \n",
       "PROD_QTY             2.0       2.00      200.0  \n",
       "TOT_SALES            7.4       8.80      650.0  "
      ]
     },
     "execution_count": 8,
     "metadata": {},
     "output_type": "execute_result"
    }
   ],
   "source": [
    "#Summary of the data from transaction data dataframe.\n",
    "\n",
    "summary = df_transaction_data.describe()\n",
    "\n",
    "summary = summary.transpose()\n",
    "\n",
    "summary"
   ]
  },
  {
   "cell_type": "code",
   "execution_count": 9,
   "metadata": {},
   "outputs": [
    {
     "name": "stdout",
     "output_type": "stream",
     "text": [
      "DATE : False\n",
      "STORE_NBR : False\n",
      "LYLTY_CARD_NBR : False\n",
      "TXN_ID : False\n",
      "PROD_NBR : False\n",
      "PROD_NAME : False\n",
      "PROD_QTY : False\n",
      "TOT_SALES : False\n"
     ]
    }
   ],
   "source": [
    "#Checking if any column has a null value(NaN)?\n",
    "\n",
    "df_transaction_data_columns = df_transaction_data.columns\n",
    "\n",
    "for val in df_transaction_data_columns:\n",
    "    print(val+' : '+str(df_transaction_data[val].isnull().values.any()))"
   ]
  },
  {
   "cell_type": "code",
   "execution_count": 10,
   "metadata": {},
   "outputs": [
    {
     "data": {
      "text/html": [
       "<div>\n",
       "<style scoped>\n",
       "    .dataframe tbody tr th:only-of-type {\n",
       "        vertical-align: middle;\n",
       "    }\n",
       "\n",
       "    .dataframe tbody tr th {\n",
       "        vertical-align: top;\n",
       "    }\n",
       "\n",
       "    .dataframe thead th {\n",
       "        text-align: right;\n",
       "    }\n",
       "</style>\n",
       "<table border=\"1\" class=\"dataframe\">\n",
       "  <thead>\n",
       "    <tr style=\"text-align: right;\">\n",
       "      <th></th>\n",
       "      <th>DATE</th>\n",
       "      <th>STORE_NBR</th>\n",
       "      <th>LYLTY_CARD_NBR</th>\n",
       "      <th>TXN_ID</th>\n",
       "      <th>PROD_NBR</th>\n",
       "      <th>PROD_NAME</th>\n",
       "      <th>PROD_QTY</th>\n",
       "      <th>TOT_SALES</th>\n",
       "    </tr>\n",
       "  </thead>\n",
       "  <tbody>\n",
       "    <tr>\n",
       "      <th>69762</th>\n",
       "      <td>2018-08-19</td>\n",
       "      <td>226</td>\n",
       "      <td>226000</td>\n",
       "      <td>226201</td>\n",
       "      <td>4</td>\n",
       "      <td>Dorito Corn Chp     Supreme 380g</td>\n",
       "      <td>200</td>\n",
       "      <td>650.0</td>\n",
       "    </tr>\n",
       "    <tr>\n",
       "      <th>69763</th>\n",
       "      <td>2019-05-20</td>\n",
       "      <td>226</td>\n",
       "      <td>226000</td>\n",
       "      <td>226210</td>\n",
       "      <td>4</td>\n",
       "      <td>Dorito Corn Chp     Supreme 380g</td>\n",
       "      <td>200</td>\n",
       "      <td>650.0</td>\n",
       "    </tr>\n",
       "  </tbody>\n",
       "</table>\n",
       "</div>"
      ],
      "text/plain": [
       "             DATE  STORE_NBR  LYLTY_CARD_NBR  TXN_ID  PROD_NBR  \\\n",
       "69762  2018-08-19        226          226000  226201         4   \n",
       "69763  2019-05-20        226          226000  226210         4   \n",
       "\n",
       "                              PROD_NAME  PROD_QTY  TOT_SALES  \n",
       "69762  Dorito Corn Chp     Supreme 380g       200      650.0  \n",
       "69763  Dorito Corn Chp     Supreme 380g       200      650.0  "
      ]
     },
     "execution_count": 10,
     "metadata": {},
     "output_type": "execute_result"
    }
   ],
   "source": [
    "# Here we have one outliner according to summary displayed above, and that it max quantity ordered for\n",
    "# a packet of chips in a single go is 200 which is weird!\n",
    "\n",
    "df_transaction_data[df_transaction_data['PROD_QTY'] == 200]"
   ]
  },
  {
   "cell_type": "code",
   "execution_count": 11,
   "metadata": {},
   "outputs": [
    {
     "data": {
      "text/html": [
       "<div>\n",
       "<style scoped>\n",
       "    .dataframe tbody tr th:only-of-type {\n",
       "        vertical-align: middle;\n",
       "    }\n",
       "\n",
       "    .dataframe tbody tr th {\n",
       "        vertical-align: top;\n",
       "    }\n",
       "\n",
       "    .dataframe thead th {\n",
       "        text-align: right;\n",
       "    }\n",
       "</style>\n",
       "<table border=\"1\" class=\"dataframe\">\n",
       "  <thead>\n",
       "    <tr style=\"text-align: right;\">\n",
       "      <th></th>\n",
       "      <th>DATE</th>\n",
       "      <th>STORE_NBR</th>\n",
       "      <th>LYLTY_CARD_NBR</th>\n",
       "      <th>TXN_ID</th>\n",
       "      <th>PROD_NBR</th>\n",
       "      <th>PROD_NAME</th>\n",
       "      <th>PROD_QTY</th>\n",
       "      <th>TOT_SALES</th>\n",
       "    </tr>\n",
       "  </thead>\n",
       "  <tbody>\n",
       "    <tr>\n",
       "      <th>69762</th>\n",
       "      <td>2018-08-19</td>\n",
       "      <td>226</td>\n",
       "      <td>226000</td>\n",
       "      <td>226201</td>\n",
       "      <td>4</td>\n",
       "      <td>Dorito Corn Chp     Supreme 380g</td>\n",
       "      <td>200</td>\n",
       "      <td>650.0</td>\n",
       "    </tr>\n",
       "    <tr>\n",
       "      <th>69763</th>\n",
       "      <td>2019-05-20</td>\n",
       "      <td>226</td>\n",
       "      <td>226000</td>\n",
       "      <td>226210</td>\n",
       "      <td>4</td>\n",
       "      <td>Dorito Corn Chp     Supreme 380g</td>\n",
       "      <td>200</td>\n",
       "      <td>650.0</td>\n",
       "    </tr>\n",
       "  </tbody>\n",
       "</table>\n",
       "</div>"
      ],
      "text/plain": [
       "             DATE  STORE_NBR  LYLTY_CARD_NBR  TXN_ID  PROD_NBR  \\\n",
       "69762  2018-08-19        226          226000  226201         4   \n",
       "69763  2019-05-20        226          226000  226210         4   \n",
       "\n",
       "                              PROD_NAME  PROD_QTY  TOT_SALES  \n",
       "69762  Dorito Corn Chp     Supreme 380g       200      650.0  \n",
       "69763  Dorito Corn Chp     Supreme 380g       200      650.0  "
      ]
     },
     "execution_count": 11,
     "metadata": {},
     "output_type": "execute_result"
    }
   ],
   "source": [
    "#Getting the loyality card number of this customer to identify if the same customer has made other transactions.\n",
    "\n",
    "lylty_card_no_index = df_transaction_data[df_transaction_data['PROD_QTY'] == 200].index\n",
    "\n",
    "x = df_transaction_data['LYLTY_CARD_NBR'][df_transaction_data.index == lylty_card_no_index[0]]\n",
    "val = x.get(lylty_card_no_index[0])\n",
    "df_transaction_data[df_transaction_data['LYLTY_CARD_NBR'] == val]"
   ]
  },
  {
   "cell_type": "code",
   "execution_count": 12,
   "metadata": {},
   "outputs": [],
   "source": [
    "#It looks like this customer has only had the two transactions over the year and is\n",
    "#not an ordinary retail customer. The customer might be buying chips for commercial\n",
    "#purposes instead. We'll remove this loyalty card number from further analysis.\n",
    "\n",
    "df_transaction_data.drop(df_transaction_data[df_transaction_data['LYLTY_CARD_NBR'] == val].index, inplace=True)"
   ]
  },
  {
   "cell_type": "code",
   "execution_count": 13,
   "metadata": {},
   "outputs": [
    {
     "data": {
      "text/html": [
       "<div>\n",
       "<style scoped>\n",
       "    .dataframe tbody tr th:only-of-type {\n",
       "        vertical-align: middle;\n",
       "    }\n",
       "\n",
       "    .dataframe tbody tr th {\n",
       "        vertical-align: top;\n",
       "    }\n",
       "\n",
       "    .dataframe thead th {\n",
       "        text-align: right;\n",
       "    }\n",
       "</style>\n",
       "<table border=\"1\" class=\"dataframe\">\n",
       "  <thead>\n",
       "    <tr style=\"text-align: right;\">\n",
       "      <th></th>\n",
       "      <th>count</th>\n",
       "      <th>mean</th>\n",
       "      <th>std</th>\n",
       "      <th>min</th>\n",
       "      <th>25%</th>\n",
       "      <th>50%</th>\n",
       "      <th>75%</th>\n",
       "      <th>max</th>\n",
       "    </tr>\n",
       "  </thead>\n",
       "  <tbody>\n",
       "    <tr>\n",
       "      <th>STORE_NBR</th>\n",
       "      <td>246740.0</td>\n",
       "      <td>135.050361</td>\n",
       "      <td>76.786971</td>\n",
       "      <td>1.0</td>\n",
       "      <td>70.00</td>\n",
       "      <td>130.0</td>\n",
       "      <td>203.00</td>\n",
       "      <td>272.0</td>\n",
       "    </tr>\n",
       "    <tr>\n",
       "      <th>LYLTY_CARD_NBR</th>\n",
       "      <td>246740.0</td>\n",
       "      <td>135530.251641</td>\n",
       "      <td>80715.196924</td>\n",
       "      <td>1000.0</td>\n",
       "      <td>70015.00</td>\n",
       "      <td>130367.0</td>\n",
       "      <td>203083.25</td>\n",
       "      <td>2373711.0</td>\n",
       "    </tr>\n",
       "    <tr>\n",
       "      <th>TXN_ID</th>\n",
       "      <td>246740.0</td>\n",
       "      <td>135130.360627</td>\n",
       "      <td>78147.604242</td>\n",
       "      <td>1.0</td>\n",
       "      <td>67568.75</td>\n",
       "      <td>135181.5</td>\n",
       "      <td>202652.25</td>\n",
       "      <td>2415841.0</td>\n",
       "    </tr>\n",
       "    <tr>\n",
       "      <th>PROD_NBR</th>\n",
       "      <td>246740.0</td>\n",
       "      <td>56.352213</td>\n",
       "      <td>33.695235</td>\n",
       "      <td>1.0</td>\n",
       "      <td>26.00</td>\n",
       "      <td>53.0</td>\n",
       "      <td>87.00</td>\n",
       "      <td>114.0</td>\n",
       "    </tr>\n",
       "    <tr>\n",
       "      <th>PROD_QTY</th>\n",
       "      <td>246740.0</td>\n",
       "      <td>1.906456</td>\n",
       "      <td>0.342499</td>\n",
       "      <td>1.0</td>\n",
       "      <td>2.00</td>\n",
       "      <td>2.0</td>\n",
       "      <td>2.00</td>\n",
       "      <td>5.0</td>\n",
       "    </tr>\n",
       "    <tr>\n",
       "      <th>TOT_SALES</th>\n",
       "      <td>246740.0</td>\n",
       "      <td>7.316113</td>\n",
       "      <td>2.474897</td>\n",
       "      <td>1.7</td>\n",
       "      <td>5.80</td>\n",
       "      <td>7.4</td>\n",
       "      <td>8.80</td>\n",
       "      <td>29.5</td>\n",
       "    </tr>\n",
       "  </tbody>\n",
       "</table>\n",
       "</div>"
      ],
      "text/plain": [
       "                   count           mean           std     min       25%  \\\n",
       "STORE_NBR       246740.0     135.050361     76.786971     1.0     70.00   \n",
       "LYLTY_CARD_NBR  246740.0  135530.251641  80715.196924  1000.0  70015.00   \n",
       "TXN_ID          246740.0  135130.360627  78147.604242     1.0  67568.75   \n",
       "PROD_NBR        246740.0      56.352213     33.695235     1.0     26.00   \n",
       "PROD_QTY        246740.0       1.906456      0.342499     1.0      2.00   \n",
       "TOT_SALES       246740.0       7.316113      2.474897     1.7      5.80   \n",
       "\n",
       "                     50%        75%        max  \n",
       "STORE_NBR          130.0     203.00      272.0  \n",
       "LYLTY_CARD_NBR  130367.0  203083.25  2373711.0  \n",
       "TXN_ID          135181.5  202652.25  2415841.0  \n",
       "PROD_NBR            53.0      87.00      114.0  \n",
       "PROD_QTY             2.0       2.00        5.0  \n",
       "TOT_SALES            7.4       8.80       29.5  "
      ]
     },
     "execution_count": 13,
     "metadata": {},
     "output_type": "execute_result"
    }
   ],
   "source": [
    "#Re- examining the data.\n",
    "\n",
    "summary = df_transaction_data.describe()\n",
    "\n",
    "summary = summary.transpose()\n",
    "\n",
    "summary"
   ]
  },
  {
   "cell_type": "code",
   "execution_count": 14,
   "metadata": {},
   "outputs": [
    {
     "data": {
      "text/html": [
       "<div>\n",
       "<style scoped>\n",
       "    .dataframe tbody tr th:only-of-type {\n",
       "        vertical-align: middle;\n",
       "    }\n",
       "\n",
       "    .dataframe tbody tr th {\n",
       "        vertical-align: top;\n",
       "    }\n",
       "\n",
       "    .dataframe thead th {\n",
       "        text-align: right;\n",
       "    }\n",
       "</style>\n",
       "<table border=\"1\" class=\"dataframe\">\n",
       "  <thead>\n",
       "    <tr style=\"text-align: right;\">\n",
       "      <th></th>\n",
       "      <th>Transactions</th>\n",
       "    </tr>\n",
       "  </thead>\n",
       "  <tbody>\n",
       "    <tr>\n",
       "      <th>2018-12-24</th>\n",
       "      <td>865</td>\n",
       "    </tr>\n",
       "    <tr>\n",
       "      <th>2018-12-23</th>\n",
       "      <td>853</td>\n",
       "    </tr>\n",
       "    <tr>\n",
       "      <th>2018-12-22</th>\n",
       "      <td>840</td>\n",
       "    </tr>\n",
       "    <tr>\n",
       "      <th>2018-12-19</th>\n",
       "      <td>839</td>\n",
       "    </tr>\n",
       "    <tr>\n",
       "      <th>2018-12-20</th>\n",
       "      <td>808</td>\n",
       "    </tr>\n",
       "    <tr>\n",
       "      <th>...</th>\n",
       "      <td>...</td>\n",
       "    </tr>\n",
       "    <tr>\n",
       "      <th>2019-06-24</th>\n",
       "      <td>612</td>\n",
       "    </tr>\n",
       "    <tr>\n",
       "      <th>2018-10-18</th>\n",
       "      <td>611</td>\n",
       "    </tr>\n",
       "    <tr>\n",
       "      <th>2018-11-25</th>\n",
       "      <td>610</td>\n",
       "    </tr>\n",
       "    <tr>\n",
       "      <th>2018-09-22</th>\n",
       "      <td>609</td>\n",
       "    </tr>\n",
       "    <tr>\n",
       "      <th>2019-06-13</th>\n",
       "      <td>607</td>\n",
       "    </tr>\n",
       "  </tbody>\n",
       "</table>\n",
       "<p>364 rows × 1 columns</p>\n",
       "</div>"
      ],
      "text/plain": [
       "            Transactions\n",
       "2018-12-24           865\n",
       "2018-12-23           853\n",
       "2018-12-22           840\n",
       "2018-12-19           839\n",
       "2018-12-20           808\n",
       "...                  ...\n",
       "2019-06-24           612\n",
       "2018-10-18           611\n",
       "2018-11-25           610\n",
       "2018-09-22           609\n",
       "2019-06-13           607\n",
       "\n",
       "[364 rows x 1 columns]"
      ]
     },
     "execution_count": 14,
     "metadata": {},
     "output_type": "execute_result"
    }
   ],
   "source": [
    "#Counting number of transactions on each day to see if there is some missing date or not.\n",
    "\n",
    "df_transactions = pd.DataFrame(df_transaction_data.DATE.value_counts())\n",
    "df_transactions.rename(columns={'DATE':'Transactions'},inplace=True)\n",
    "df_transactions.index = pd.to_datetime(df_transactions.index)\n",
    "\n",
    "df_transactions"
   ]
  },
  {
   "cell_type": "code",
   "execution_count": 17,
   "metadata": {
    "scrolled": true
   },
   "outputs": [
    {
     "data": {
      "text/html": [
       "<div>\n",
       "<style scoped>\n",
       "    .dataframe tbody tr th:only-of-type {\n",
       "        vertical-align: middle;\n",
       "    }\n",
       "\n",
       "    .dataframe tbody tr th {\n",
       "        vertical-align: top;\n",
       "    }\n",
       "\n",
       "    .dataframe thead th {\n",
       "        text-align: right;\n",
       "    }\n",
       "</style>\n",
       "<table border=\"1\" class=\"dataframe\">\n",
       "  <thead>\n",
       "    <tr style=\"text-align: right;\">\n",
       "      <th></th>\n",
       "    </tr>\n",
       "    <tr>\n",
       "      <th>Dates</th>\n",
       "    </tr>\n",
       "  </thead>\n",
       "  <tbody>\n",
       "    <tr>\n",
       "      <th>2018-07-01</th>\n",
       "    </tr>\n",
       "    <tr>\n",
       "      <th>2018-07-02</th>\n",
       "    </tr>\n",
       "    <tr>\n",
       "      <th>2018-07-03</th>\n",
       "    </tr>\n",
       "    <tr>\n",
       "      <th>2018-07-04</th>\n",
       "    </tr>\n",
       "    <tr>\n",
       "      <th>2018-07-05</th>\n",
       "    </tr>\n",
       "    <tr>\n",
       "      <th>...</th>\n",
       "    </tr>\n",
       "    <tr>\n",
       "      <th>2019-06-26</th>\n",
       "    </tr>\n",
       "    <tr>\n",
       "      <th>2019-06-27</th>\n",
       "    </tr>\n",
       "    <tr>\n",
       "      <th>2019-06-28</th>\n",
       "    </tr>\n",
       "    <tr>\n",
       "      <th>2019-06-29</th>\n",
       "    </tr>\n",
       "    <tr>\n",
       "      <th>2019-06-30</th>\n",
       "    </tr>\n",
       "  </tbody>\n",
       "</table>\n",
       "<p>365 rows × 0 columns</p>\n",
       "</div>"
      ],
      "text/plain": [
       "Empty DataFrame\n",
       "Columns: []\n",
       "Index: [2018-07-01 00:00:00, 2018-07-02 00:00:00, 2018-07-03 00:00:00, 2018-07-04 00:00:00, 2018-07-05 00:00:00, 2018-07-06 00:00:00, 2018-07-07 00:00:00, 2018-07-08 00:00:00, 2018-07-09 00:00:00, 2018-07-10 00:00:00, 2018-07-11 00:00:00, 2018-07-12 00:00:00, 2018-07-13 00:00:00, 2018-07-14 00:00:00, 2018-07-15 00:00:00, 2018-07-16 00:00:00, 2018-07-17 00:00:00, 2018-07-18 00:00:00, 2018-07-19 00:00:00, 2018-07-20 00:00:00, 2018-07-21 00:00:00, 2018-07-22 00:00:00, 2018-07-23 00:00:00, 2018-07-24 00:00:00, 2018-07-25 00:00:00, 2018-07-26 00:00:00, 2018-07-27 00:00:00, 2018-07-28 00:00:00, 2018-07-29 00:00:00, 2018-07-30 00:00:00, 2018-07-31 00:00:00, 2018-08-01 00:00:00, 2018-08-02 00:00:00, 2018-08-03 00:00:00, 2018-08-04 00:00:00, 2018-08-05 00:00:00, 2018-08-06 00:00:00, 2018-08-07 00:00:00, 2018-08-08 00:00:00, 2018-08-09 00:00:00, 2018-08-10 00:00:00, 2018-08-11 00:00:00, 2018-08-12 00:00:00, 2018-08-13 00:00:00, 2018-08-14 00:00:00, 2018-08-15 00:00:00, 2018-08-16 00:00:00, 2018-08-17 00:00:00, 2018-08-18 00:00:00, 2018-08-19 00:00:00, 2018-08-20 00:00:00, 2018-08-21 00:00:00, 2018-08-22 00:00:00, 2018-08-23 00:00:00, 2018-08-24 00:00:00, 2018-08-25 00:00:00, 2018-08-26 00:00:00, 2018-08-27 00:00:00, 2018-08-28 00:00:00, 2018-08-29 00:00:00, 2018-08-30 00:00:00, 2018-08-31 00:00:00, 2018-09-01 00:00:00, 2018-09-02 00:00:00, 2018-09-03 00:00:00, 2018-09-04 00:00:00, 2018-09-05 00:00:00, 2018-09-06 00:00:00, 2018-09-07 00:00:00, 2018-09-08 00:00:00, 2018-09-09 00:00:00, 2018-09-10 00:00:00, 2018-09-11 00:00:00, 2018-09-12 00:00:00, 2018-09-13 00:00:00, 2018-09-14 00:00:00, 2018-09-15 00:00:00, 2018-09-16 00:00:00, 2018-09-17 00:00:00, 2018-09-18 00:00:00, 2018-09-19 00:00:00, 2018-09-20 00:00:00, 2018-09-21 00:00:00, 2018-09-22 00:00:00, 2018-09-23 00:00:00, 2018-09-24 00:00:00, 2018-09-25 00:00:00, 2018-09-26 00:00:00, 2018-09-27 00:00:00, 2018-09-28 00:00:00, 2018-09-29 00:00:00, 2018-09-30 00:00:00, 2018-10-01 00:00:00, 2018-10-02 00:00:00, 2018-10-03 00:00:00, 2018-10-04 00:00:00, 2018-10-05 00:00:00, 2018-10-06 00:00:00, 2018-10-07 00:00:00, 2018-10-08 00:00:00, ...]\n",
       "\n",
       "[365 rows x 0 columns]"
      ]
     },
     "execution_count": 17,
     "metadata": {},
     "output_type": "execute_result"
    }
   ],
   "source": [
    "#There's only 364 rows, meaning only 364 dates which indicates a missing date. \n",
    "\n",
    "#Creating a sequence of dates from 1 Jul 2018 to 30 Jun 2019 and use this to create a\n",
    "#chart of number of transactions over time to find the missing date.\n",
    "\n",
    "sdate = date(2018,7,1)   # start date\n",
    "edate = date(2019,6,30)   # end date\n",
    "\n",
    "df_dates = pd.DataFrame(pd.date_range(sdate,edate,freq='d'))\n",
    "\n",
    "df_dates.rename(columns={0:'Dates'},inplace=True)\n",
    "\n",
    "df_dates.set_index('Dates',inplace=True)\n",
    "df_dates"
   ]
  },
  {
   "cell_type": "code",
   "execution_count": 18,
   "metadata": {},
   "outputs": [
    {
     "data": {
      "text/html": [
       "<div>\n",
       "<style scoped>\n",
       "    .dataframe tbody tr th:only-of-type {\n",
       "        vertical-align: middle;\n",
       "    }\n",
       "\n",
       "    .dataframe tbody tr th {\n",
       "        vertical-align: top;\n",
       "    }\n",
       "\n",
       "    .dataframe thead th {\n",
       "        text-align: right;\n",
       "    }\n",
       "</style>\n",
       "<table border=\"1\" class=\"dataframe\">\n",
       "  <thead>\n",
       "    <tr style=\"text-align: right;\">\n",
       "      <th></th>\n",
       "      <th>Transactions</th>\n",
       "    </tr>\n",
       "    <tr>\n",
       "      <th>Dates</th>\n",
       "      <th></th>\n",
       "    </tr>\n",
       "  </thead>\n",
       "  <tbody>\n",
       "    <tr>\n",
       "      <th>2018-07-01</th>\n",
       "      <td>663.0</td>\n",
       "    </tr>\n",
       "    <tr>\n",
       "      <th>2018-07-02</th>\n",
       "      <td>650.0</td>\n",
       "    </tr>\n",
       "    <tr>\n",
       "      <th>2018-07-03</th>\n",
       "      <td>674.0</td>\n",
       "    </tr>\n",
       "    <tr>\n",
       "      <th>2018-07-04</th>\n",
       "      <td>669.0</td>\n",
       "    </tr>\n",
       "    <tr>\n",
       "      <th>2018-07-05</th>\n",
       "      <td>660.0</td>\n",
       "    </tr>\n",
       "    <tr>\n",
       "      <th>...</th>\n",
       "      <td>...</td>\n",
       "    </tr>\n",
       "    <tr>\n",
       "      <th>2019-06-26</th>\n",
       "      <td>657.0</td>\n",
       "    </tr>\n",
       "    <tr>\n",
       "      <th>2019-06-27</th>\n",
       "      <td>669.0</td>\n",
       "    </tr>\n",
       "    <tr>\n",
       "      <th>2019-06-28</th>\n",
       "      <td>673.0</td>\n",
       "    </tr>\n",
       "    <tr>\n",
       "      <th>2019-06-29</th>\n",
       "      <td>703.0</td>\n",
       "    </tr>\n",
       "    <tr>\n",
       "      <th>2019-06-30</th>\n",
       "      <td>704.0</td>\n",
       "    </tr>\n",
       "  </tbody>\n",
       "</table>\n",
       "<p>365 rows × 1 columns</p>\n",
       "</div>"
      ],
      "text/plain": [
       "            Transactions\n",
       "Dates                   \n",
       "2018-07-01         663.0\n",
       "2018-07-02         650.0\n",
       "2018-07-03         674.0\n",
       "2018-07-04         669.0\n",
       "2018-07-05         660.0\n",
       "...                  ...\n",
       "2019-06-26         657.0\n",
       "2019-06-27         669.0\n",
       "2019-06-28         673.0\n",
       "2019-06-29         703.0\n",
       "2019-06-30         704.0\n",
       "\n",
       "[365 rows x 1 columns]"
      ]
     },
     "execution_count": 18,
     "metadata": {},
     "output_type": "execute_result"
    }
   ],
   "source": [
    "#Performing join on both dataframes\n",
    "df_check_date = pd.merge(df_dates, df_transactions, how='left',left_index=True, right_index=True)\n",
    "df_check_date"
   ]
  },
  {
   "cell_type": "code",
   "execution_count": 19,
   "metadata": {},
   "outputs": [
    {
     "data": {
      "text/plain": [
       "DatetimeIndex(['2018-12-25'], dtype='datetime64[ns]', name='Dates', freq=None)"
      ]
     },
     "execution_count": 19,
     "metadata": {},
     "output_type": "execute_result"
    }
   ],
   "source": [
    "df_check_date[df_check_date['Transactions'].isnull()].index\n",
    "\n",
    "#Missing date id 2018-12-25 i.e. 25th December 2018"
   ]
  },
  {
   "cell_type": "code",
   "execution_count": 20,
   "metadata": {},
   "outputs": [
    {
     "name": "stderr",
     "output_type": "stream",
     "text": [
      "<ipython-input-20-fc28c477960f>:9: SettingWithCopyWarning: \n",
      "A value is trying to be set on a copy of a slice from a DataFrame.\n",
      "Try using .loc[row_indexer,col_indexer] = value instead\n",
      "\n",
      "See the caveats in the documentation: https://pandas.pydata.org/pandas-docs/stable/user_guide/indexing.html#returning-a-view-versus-a-copy\n",
      "  df_plot_date['Transactions'] = df_plot_date['Transactions'].fillna(0)\n"
     ]
    }
   ],
   "source": [
    "#Selecting dates for the month of December\n",
    "\n",
    "start_date = pd.to_datetime('2018-12-1')   # start date\n",
    "end_date = pd.to_datetime('2018-12-31')    # end date\n",
    "\n",
    "mask = (df_check_date.index >= start_date) & (df_check_date.index <= end_date)\n",
    "df_plot_date = df_check_date.loc[mask]\n",
    "\n",
    "df_plot_date['Transactions'] = df_plot_date['Transactions'].fillna(0)\n"
   ]
  },
  {
   "cell_type": "code",
   "execution_count": 21,
   "metadata": {},
   "outputs": [
    {
     "data": {
      "image/png": "[encoded data removed]",
      "text/plain": [
       "<Figure size 1008x288 with 1 Axes>"
      ]
     },
     "metadata": {
      "needs_background": "light"
     },
     "output_type": "display_data"
    }
   ],
   "source": [
    "#Zoomin in and plotting december dates with its transactions\n",
    "style.use('seaborn-muted')\n",
    "df_plot_date.plot(figsize=(14,4))\n",
    "plt.yticks([0,200,400,600,800])\n",
    "plt.xticks(df_plot_date.index,[1,2,3,4,5,6,7,8,9,10,11,12,13,14,15,16,17,18,19,20,21,22,23,24,25,26,27,28,29,30,31])\n",
    "plt.title('Transactions over time(December 2018)',fontsize=15)\n",
    "plt.xlabel('Day',fontsize=15)\n",
    "plt.ylabel('Number of transactions',fontsize=15);"
   ]
  },
  {
   "cell_type": "code",
   "execution_count": 22,
   "metadata": {},
   "outputs": [],
   "source": [
    "#We can see that the increase in sales occurs in the lead-up to Christmas and that\n",
    "#there are zero sales on Christmas day itself. This is due to shops being closed on Christmas day."
   ]
  },
  {
   "cell_type": "code",
   "execution_count": 23,
   "metadata": {},
   "outputs": [],
   "source": [
    "#Now that we are satisfied that the data no longer has outliers, we can move on to\n",
    "#creating other features such as brand of chips or pack size from PROD_NAME. We will\n",
    "#start with pack size."
   ]
  },
  {
   "cell_type": "code",
   "execution_count": 24,
   "metadata": {},
   "outputs": [
    {
     "name": "stdout",
     "output_type": "stream",
     "text": [
      "Minimum : 70\n",
      "Maximum : 380\n"
     ]
    }
   ],
   "source": [
    "pack_size = []\n",
    "product_name = df_transaction_data[\"PROD_NAME\"]\n",
    "for item in product_name:\n",
    "    if(item == 'Kettle 135g Swt Pot Sea Salt'):\n",
    "        pack_size.append(int(item[7:10]))\n",
    "    else:\n",
    "        pack_size.append(int(item[-4:-1]))\n",
    "    \n",
    "print('Minimum'+\" : \"+str(min(pack_size)))\n",
    "print('Maximum'+\" : \"+str(max(pack_size)))\n",
    "\n",
    "#The largest size is 380g and the smallest size is 70g - seems sensible!"
   ]
  },
  {
   "cell_type": "code",
   "execution_count": 25,
   "metadata": {},
   "outputs": [],
   "source": [
    "#Making a new column named pack size.\n",
    "\n",
    "df_transaction_data['PACK_SIZE'] = pack_size"
   ]
  },
  {
   "cell_type": "code",
   "execution_count": 26,
   "metadata": {},
   "outputs": [
    {
     "data": {
      "text/plain": [
       "Text(0.5, 1.0, 'Freq. of size of packets sold')"
      ]
     },
     "execution_count": 26,
     "metadata": {},
     "output_type": "execute_result"
    },
    {
     "data": {
      "image/png": "[encoded data removed]",
      "text/plain": [
       "<Figure size 432x288 with 1 Axes>"
      ]
     },
     "metadata": {
      "needs_background": "light"
     },
     "output_type": "display_data"
    }
   ],
   "source": [
    "df_transaction_data['PACK_SIZE'].hist()\n",
    "plt.xlabel('Pack Sizes')\n",
    "plt.ylabel('Transaction freq.')\n",
    "plt.title('Freq. of size of packets sold')"
   ]
  },
  {
   "cell_type": "code",
   "execution_count": 27,
   "metadata": {},
   "outputs": [],
   "source": [
    "#Getting brand names from product names and making a seprate column for that in transaction data frame.\n",
    "\n",
    "brand_names = []\n",
    "\n",
    "for item in product_name:\n",
    "    words = item.split(' ')\n",
    "    brand_names.append(words[0])\n"
   ]
  },
  {
   "cell_type": "code",
   "execution_count": 28,
   "metadata": {},
   "outputs": [
    {
     "data": {
      "text/plain": [
       "Counter({'Natural': 6050,\n",
       "         'CCs': 4551,\n",
       "         'Smiths': 27390,\n",
       "         'Kettle': 41288,\n",
       "         'Grain': 6272,\n",
       "         'Doritos': 22041,\n",
       "         'Twisties': 9454,\n",
       "         'WW': 10320,\n",
       "         'Thins': 14075,\n",
       "         'Burger': 1564,\n",
       "         'NCC': 1419,\n",
       "         'Cheezels': 4603,\n",
       "         'Infzns': 3144,\n",
       "         'Red': 4427,\n",
       "         'Pringles': 25102,\n",
       "         'Dorito': 3183,\n",
       "         'Infuzions': 11057,\n",
       "         'Smith': 2963,\n",
       "         'GrnWves': 1468,\n",
       "         'Tyrrells': 6442,\n",
       "         'Cobs': 9693,\n",
       "         'French': 1418,\n",
       "         'RRD': 11894,\n",
       "         'Tostitos': 9471,\n",
       "         'Cheetos': 2927,\n",
       "         'Woolworths': 1516,\n",
       "         'Snbts': 1576,\n",
       "         'Sunbites': 1432})"
      ]
     },
     "execution_count": 28,
     "metadata": {},
     "output_type": "execute_result"
    }
   ],
   "source": [
    "#Frequency of occourence of each brand.\n",
    "\n",
    "from collections import Counter as counter\n",
    "\n",
    "counter(brand_names)"
   ]
  },
  {
   "cell_type": "code",
   "execution_count": 29,
   "metadata": {},
   "outputs": [],
   "source": [
    "#Replacing NCC with Natural Chip Co, Natural with Natural Chip Co,Smith with Smiths, Dorito with Doritos, WW with Woolworths, RRD with Red, Snbts with Sunbites,\n",
    "#Grain with Grain Waves, GrnWves with Grain Waves, Infzns with Infuzions.\n",
    "\n",
    "for index,element in enumerate(brand_names):\n",
    "    if(element == 'NCC' or element == 'Natural'):\n",
    "        brand_names[index] = 'Natural Chip Co'\n",
    "    \n",
    "    if(element == 'Smith'):\n",
    "        brand_names[index] = 'Smiths'\n",
    "        \n",
    "    if(element == 'Dorito'):\n",
    "        brand_names[index] = 'Doritos'\n",
    "        \n",
    "    if(element == 'WW'):\n",
    "        brand_names[index] = 'Woolworths'\n",
    "        \n",
    "    if(element == 'RRD'):\n",
    "        brand_names[index] = 'Red'\n",
    "        \n",
    "    if(element == 'Grain' or element == 'GrnWves'):\n",
    "        brand_names[index] = 'Grain Waves'\n",
    "        \n",
    "    if(element == 'Infzns'):\n",
    "        brand_names[index] = 'Infuzions'\n",
    "    "
   ]
  },
  {
   "cell_type": "code",
   "execution_count": 30,
   "metadata": {},
   "outputs": [
    {
     "data": {
      "text/plain": [
       "Counter({'Natural Chip Co': 7469,\n",
       "         'CCs': 4551,\n",
       "         'Smiths': 30353,\n",
       "         'Kettle': 41288,\n",
       "         'Grain Waves': 7740,\n",
       "         'Doritos': 25224,\n",
       "         'Twisties': 9454,\n",
       "         'Woolworths': 11836,\n",
       "         'Thins': 14075,\n",
       "         'Burger': 1564,\n",
       "         'Cheezels': 4603,\n",
       "         'Infuzions': 14201,\n",
       "         'Red': 16321,\n",
       "         'Pringles': 25102,\n",
       "         'Tyrrells': 6442,\n",
       "         'Cobs': 9693,\n",
       "         'French': 1418,\n",
       "         'Tostitos': 9471,\n",
       "         'Cheetos': 2927,\n",
       "         'Snbts': 1576,\n",
       "         'Sunbites': 1432})"
      ]
     },
     "execution_count": 30,
     "metadata": {},
     "output_type": "execute_result"
    }
   ],
   "source": [
    "#Frequency of occourence of each brand.\n",
    "\n",
    "from collections import Counter as counter\n",
    "\n",
    "brand_dict = counter(brand_names)\n",
    "\n",
    "brand_dict"
   ]
  },
  {
   "cell_type": "code",
   "execution_count": 31,
   "metadata": {},
   "outputs": [],
   "source": [
    "#Now the results of brand names look resonable and correct.\n",
    "df_transaction_data['BRAND_NAME'] = brand_names "
   ]
  },
  {
   "cell_type": "code",
   "execution_count": 32,
   "metadata": {},
   "outputs": [],
   "source": [
    "index = []\n",
    "values = []\n",
    "\n",
    "brand_dict = dict(brand_dict)\n",
    "\n",
    "for i,v in brand_dict.items():\n",
    "    index.append(i)\n",
    "    values.append(v)"
   ]
  },
  {
   "cell_type": "code",
   "execution_count": 33,
   "metadata": {},
   "outputs": [
    {
     "data": {
      "image/png": "[encoded data removed]",
      "text/plain": [
       "<Figure size 864x288 with 1 Axes>"
      ]
     },
     "metadata": {
      "needs_background": "light"
     },
     "output_type": "display_data"
    }
   ],
   "source": [
    "plt.figure(figsize=(12,4))\n",
    "plt.bar(index,values)\n",
    "plt.xticks(rotation=90);"
   ]
  },
  {
   "cell_type": "code",
   "execution_count": 34,
   "metadata": {},
   "outputs": [
    {
     "data": {
      "text/html": [
       "<div>\n",
       "<style scoped>\n",
       "    .dataframe tbody tr th:only-of-type {\n",
       "        vertical-align: middle;\n",
       "    }\n",
       "\n",
       "    .dataframe tbody tr th {\n",
       "        vertical-align: top;\n",
       "    }\n",
       "\n",
       "    .dataframe thead th {\n",
       "        text-align: right;\n",
       "    }\n",
       "</style>\n",
       "<table border=\"1\" class=\"dataframe\">\n",
       "  <thead>\n",
       "    <tr style=\"text-align: right;\">\n",
       "      <th></th>\n",
       "      <th>LYLTY_CARD_NBR</th>\n",
       "      <th>LIFESTAGE</th>\n",
       "      <th>PREMIUM_CUSTOMER</th>\n",
       "    </tr>\n",
       "  </thead>\n",
       "  <tbody>\n",
       "    <tr>\n",
       "      <th>0</th>\n",
       "      <td>1000</td>\n",
       "      <td>YOUNG SINGLES/COUPLES</td>\n",
       "      <td>Premium</td>\n",
       "    </tr>\n",
       "    <tr>\n",
       "      <th>1</th>\n",
       "      <td>1002</td>\n",
       "      <td>YOUNG SINGLES/COUPLES</td>\n",
       "      <td>Mainstream</td>\n",
       "    </tr>\n",
       "    <tr>\n",
       "      <th>2</th>\n",
       "      <td>1003</td>\n",
       "      <td>YOUNG FAMILIES</td>\n",
       "      <td>Budget</td>\n",
       "    </tr>\n",
       "    <tr>\n",
       "      <th>3</th>\n",
       "      <td>1004</td>\n",
       "      <td>OLDER SINGLES/COUPLES</td>\n",
       "      <td>Mainstream</td>\n",
       "    </tr>\n",
       "    <tr>\n",
       "      <th>4</th>\n",
       "      <td>1005</td>\n",
       "      <td>MIDAGE SINGLES/COUPLES</td>\n",
       "      <td>Mainstream</td>\n",
       "    </tr>\n",
       "    <tr>\n",
       "      <th>...</th>\n",
       "      <td>...</td>\n",
       "      <td>...</td>\n",
       "      <td>...</td>\n",
       "    </tr>\n",
       "    <tr>\n",
       "      <th>72632</th>\n",
       "      <td>2370651</td>\n",
       "      <td>MIDAGE SINGLES/COUPLES</td>\n",
       "      <td>Mainstream</td>\n",
       "    </tr>\n",
       "    <tr>\n",
       "      <th>72633</th>\n",
       "      <td>2370701</td>\n",
       "      <td>YOUNG FAMILIES</td>\n",
       "      <td>Mainstream</td>\n",
       "    </tr>\n",
       "    <tr>\n",
       "      <th>72634</th>\n",
       "      <td>2370751</td>\n",
       "      <td>YOUNG FAMILIES</td>\n",
       "      <td>Premium</td>\n",
       "    </tr>\n",
       "    <tr>\n",
       "      <th>72635</th>\n",
       "      <td>2370961</td>\n",
       "      <td>OLDER FAMILIES</td>\n",
       "      <td>Budget</td>\n",
       "    </tr>\n",
       "    <tr>\n",
       "      <th>72636</th>\n",
       "      <td>2373711</td>\n",
       "      <td>YOUNG SINGLES/COUPLES</td>\n",
       "      <td>Mainstream</td>\n",
       "    </tr>\n",
       "  </tbody>\n",
       "</table>\n",
       "<p>72637 rows × 3 columns</p>\n",
       "</div>"
      ],
      "text/plain": [
       "       LYLTY_CARD_NBR               LIFESTAGE PREMIUM_CUSTOMER\n",
       "0                1000   YOUNG SINGLES/COUPLES          Premium\n",
       "1                1002   YOUNG SINGLES/COUPLES       Mainstream\n",
       "2                1003          YOUNG FAMILIES           Budget\n",
       "3                1004   OLDER SINGLES/COUPLES       Mainstream\n",
       "4                1005  MIDAGE SINGLES/COUPLES       Mainstream\n",
       "...               ...                     ...              ...\n",
       "72632         2370651  MIDAGE SINGLES/COUPLES       Mainstream\n",
       "72633         2370701          YOUNG FAMILIES       Mainstream\n",
       "72634         2370751          YOUNG FAMILIES          Premium\n",
       "72635         2370961          OLDER FAMILIES           Budget\n",
       "72636         2373711   YOUNG SINGLES/COUPLES       Mainstream\n",
       "\n",
       "[72637 rows x 3 columns]"
      ]
     },
     "execution_count": 34,
     "metadata": {},
     "output_type": "execute_result"
    }
   ],
   "source": [
    "df_purchase_behaviour"
   ]
  },
  {
   "cell_type": "code",
   "execution_count": 35,
   "metadata": {},
   "outputs": [
    {
     "data": {
      "text/html": [
       "<div>\n",
       "<style scoped>\n",
       "    .dataframe tbody tr th:only-of-type {\n",
       "        vertical-align: middle;\n",
       "    }\n",
       "\n",
       "    .dataframe tbody tr th {\n",
       "        vertical-align: top;\n",
       "    }\n",
       "\n",
       "    .dataframe thead th {\n",
       "        text-align: right;\n",
       "    }\n",
       "</style>\n",
       "<table border=\"1\" class=\"dataframe\">\n",
       "  <thead>\n",
       "    <tr style=\"text-align: right;\">\n",
       "      <th></th>\n",
       "      <th>DATE</th>\n",
       "      <th>STORE_NBR</th>\n",
       "      <th>LYLTY_CARD_NBR</th>\n",
       "      <th>TXN_ID</th>\n",
       "      <th>PROD_NBR</th>\n",
       "      <th>PROD_NAME</th>\n",
       "      <th>PROD_QTY</th>\n",
       "      <th>TOT_SALES</th>\n",
       "      <th>PACK_SIZE</th>\n",
       "      <th>BRAND_NAME</th>\n",
       "      <th>LIFESTAGE</th>\n",
       "      <th>PREMIUM_CUSTOMER</th>\n",
       "    </tr>\n",
       "  </thead>\n",
       "  <tbody>\n",
       "    <tr>\n",
       "      <th>0</th>\n",
       "      <td>2018-10-17</td>\n",
       "      <td>1</td>\n",
       "      <td>1000</td>\n",
       "      <td>1</td>\n",
       "      <td>5</td>\n",
       "      <td>Natural Chip        Compny SeaSalt175g</td>\n",
       "      <td>2</td>\n",
       "      <td>6.0</td>\n",
       "      <td>175</td>\n",
       "      <td>Natural Chip Co</td>\n",
       "      <td>YOUNG SINGLES/COUPLES</td>\n",
       "      <td>Premium</td>\n",
       "    </tr>\n",
       "    <tr>\n",
       "      <th>1</th>\n",
       "      <td>2019-05-14</td>\n",
       "      <td>1</td>\n",
       "      <td>1307</td>\n",
       "      <td>348</td>\n",
       "      <td>66</td>\n",
       "      <td>CCs Nacho Cheese    175g</td>\n",
       "      <td>3</td>\n",
       "      <td>6.3</td>\n",
       "      <td>175</td>\n",
       "      <td>CCs</td>\n",
       "      <td>MIDAGE SINGLES/COUPLES</td>\n",
       "      <td>Budget</td>\n",
       "    </tr>\n",
       "    <tr>\n",
       "      <th>2</th>\n",
       "      <td>2018-11-10</td>\n",
       "      <td>1</td>\n",
       "      <td>1307</td>\n",
       "      <td>346</td>\n",
       "      <td>96</td>\n",
       "      <td>WW Original Stacked Chips 160g</td>\n",
       "      <td>2</td>\n",
       "      <td>3.8</td>\n",
       "      <td>160</td>\n",
       "      <td>Woolworths</td>\n",
       "      <td>MIDAGE SINGLES/COUPLES</td>\n",
       "      <td>Budget</td>\n",
       "    </tr>\n",
       "    <tr>\n",
       "      <th>3</th>\n",
       "      <td>2019-03-09</td>\n",
       "      <td>1</td>\n",
       "      <td>1307</td>\n",
       "      <td>347</td>\n",
       "      <td>54</td>\n",
       "      <td>CCs Original 175g</td>\n",
       "      <td>1</td>\n",
       "      <td>2.1</td>\n",
       "      <td>175</td>\n",
       "      <td>CCs</td>\n",
       "      <td>MIDAGE SINGLES/COUPLES</td>\n",
       "      <td>Budget</td>\n",
       "    </tr>\n",
       "    <tr>\n",
       "      <th>4</th>\n",
       "      <td>2019-05-20</td>\n",
       "      <td>1</td>\n",
       "      <td>1343</td>\n",
       "      <td>383</td>\n",
       "      <td>61</td>\n",
       "      <td>Smiths Crinkle Cut  Chips Chicken 170g</td>\n",
       "      <td>2</td>\n",
       "      <td>2.9</td>\n",
       "      <td>170</td>\n",
       "      <td>Smiths</td>\n",
       "      <td>MIDAGE SINGLES/COUPLES</td>\n",
       "      <td>Budget</td>\n",
       "    </tr>\n",
       "    <tr>\n",
       "      <th>...</th>\n",
       "      <td>...</td>\n",
       "      <td>...</td>\n",
       "      <td>...</td>\n",
       "      <td>...</td>\n",
       "      <td>...</td>\n",
       "      <td>...</td>\n",
       "      <td>...</td>\n",
       "      <td>...</td>\n",
       "      <td>...</td>\n",
       "      <td>...</td>\n",
       "      <td>...</td>\n",
       "      <td>...</td>\n",
       "    </tr>\n",
       "    <tr>\n",
       "      <th>246735</th>\n",
       "      <td>2019-03-09</td>\n",
       "      <td>272</td>\n",
       "      <td>272319</td>\n",
       "      <td>270088</td>\n",
       "      <td>89</td>\n",
       "      <td>Kettle Sweet Chilli And Sour Cream 175g</td>\n",
       "      <td>2</td>\n",
       "      <td>10.8</td>\n",
       "      <td>175</td>\n",
       "      <td>Kettle</td>\n",
       "      <td>YOUNG SINGLES/COUPLES</td>\n",
       "      <td>Premium</td>\n",
       "    </tr>\n",
       "    <tr>\n",
       "      <th>246736</th>\n",
       "      <td>2018-08-13</td>\n",
       "      <td>272</td>\n",
       "      <td>272358</td>\n",
       "      <td>270154</td>\n",
       "      <td>74</td>\n",
       "      <td>Tostitos Splash Of  Lime 175g</td>\n",
       "      <td>1</td>\n",
       "      <td>4.4</td>\n",
       "      <td>175</td>\n",
       "      <td>Tostitos</td>\n",
       "      <td>YOUNG SINGLES/COUPLES</td>\n",
       "      <td>Premium</td>\n",
       "    </tr>\n",
       "    <tr>\n",
       "      <th>246737</th>\n",
       "      <td>2018-11-06</td>\n",
       "      <td>272</td>\n",
       "      <td>272379</td>\n",
       "      <td>270187</td>\n",
       "      <td>51</td>\n",
       "      <td>Doritos Mexicana    170g</td>\n",
       "      <td>2</td>\n",
       "      <td>8.8</td>\n",
       "      <td>170</td>\n",
       "      <td>Doritos</td>\n",
       "      <td>YOUNG SINGLES/COUPLES</td>\n",
       "      <td>Premium</td>\n",
       "    </tr>\n",
       "    <tr>\n",
       "      <th>246738</th>\n",
       "      <td>2018-12-27</td>\n",
       "      <td>272</td>\n",
       "      <td>272379</td>\n",
       "      <td>270188</td>\n",
       "      <td>42</td>\n",
       "      <td>Doritos Corn Chip Mexican Jalapeno 150g</td>\n",
       "      <td>2</td>\n",
       "      <td>7.8</td>\n",
       "      <td>150</td>\n",
       "      <td>Doritos</td>\n",
       "      <td>YOUNG SINGLES/COUPLES</td>\n",
       "      <td>Premium</td>\n",
       "    </tr>\n",
       "    <tr>\n",
       "      <th>246739</th>\n",
       "      <td>2018-09-22</td>\n",
       "      <td>272</td>\n",
       "      <td>272380</td>\n",
       "      <td>270189</td>\n",
       "      <td>74</td>\n",
       "      <td>Tostitos Splash Of  Lime 175g</td>\n",
       "      <td>2</td>\n",
       "      <td>8.8</td>\n",
       "      <td>175</td>\n",
       "      <td>Tostitos</td>\n",
       "      <td>YOUNG SINGLES/COUPLES</td>\n",
       "      <td>Premium</td>\n",
       "    </tr>\n",
       "  </tbody>\n",
       "</table>\n",
       "<p>246740 rows × 12 columns</p>\n",
       "</div>"
      ],
      "text/plain": [
       "              DATE  STORE_NBR  LYLTY_CARD_NBR  TXN_ID  PROD_NBR  \\\n",
       "0       2018-10-17          1            1000       1         5   \n",
       "1       2019-05-14          1            1307     348        66   \n",
       "2       2018-11-10          1            1307     346        96   \n",
       "3       2019-03-09          1            1307     347        54   \n",
       "4       2019-05-20          1            1343     383        61   \n",
       "...            ...        ...             ...     ...       ...   \n",
       "246735  2019-03-09        272          272319  270088        89   \n",
       "246736  2018-08-13        272          272358  270154        74   \n",
       "246737  2018-11-06        272          272379  270187        51   \n",
       "246738  2018-12-27        272          272379  270188        42   \n",
       "246739  2018-09-22        272          272380  270189        74   \n",
       "\n",
       "                                      PROD_NAME  PROD_QTY  TOT_SALES  \\\n",
       "0        Natural Chip        Compny SeaSalt175g         2        6.0   \n",
       "1                      CCs Nacho Cheese    175g         3        6.3   \n",
       "2                WW Original Stacked Chips 160g         2        3.8   \n",
       "3                             CCs Original 175g         1        2.1   \n",
       "4        Smiths Crinkle Cut  Chips Chicken 170g         2        2.9   \n",
       "...                                         ...       ...        ...   \n",
       "246735  Kettle Sweet Chilli And Sour Cream 175g         2       10.8   \n",
       "246736            Tostitos Splash Of  Lime 175g         1        4.4   \n",
       "246737                 Doritos Mexicana    170g         2        8.8   \n",
       "246738  Doritos Corn Chip Mexican Jalapeno 150g         2        7.8   \n",
       "246739            Tostitos Splash Of  Lime 175g         2        8.8   \n",
       "\n",
       "        PACK_SIZE       BRAND_NAME               LIFESTAGE PREMIUM_CUSTOMER  \n",
       "0             175  Natural Chip Co   YOUNG SINGLES/COUPLES          Premium  \n",
       "1             175              CCs  MIDAGE SINGLES/COUPLES           Budget  \n",
       "2             160       Woolworths  MIDAGE SINGLES/COUPLES           Budget  \n",
       "3             175              CCs  MIDAGE SINGLES/COUPLES           Budget  \n",
       "4             170           Smiths  MIDAGE SINGLES/COUPLES           Budget  \n",
       "...           ...              ...                     ...              ...  \n",
       "246735        175           Kettle   YOUNG SINGLES/COUPLES          Premium  \n",
       "246736        175         Tostitos   YOUNG SINGLES/COUPLES          Premium  \n",
       "246737        170          Doritos   YOUNG SINGLES/COUPLES          Premium  \n",
       "246738        150          Doritos   YOUNG SINGLES/COUPLES          Premium  \n",
       "246739        175         Tostitos   YOUNG SINGLES/COUPLES          Premium  \n",
       "\n",
       "[246740 rows x 12 columns]"
      ]
     },
     "execution_count": 35,
     "metadata": {},
     "output_type": "execute_result"
    }
   ],
   "source": [
    "#Merging df_transaction_data and df_purchase_behaviour\n",
    "\n",
    "df_merged = df_transaction_data.merge(df_purchase_behaviour,how='inner',left_on=['LYLTY_CARD_NBR'],right_on=['LYLTY_CARD_NBR'])\n",
    "\n",
    "df_merged"
   ]
  },
  {
   "cell_type": "code",
   "execution_count": 36,
   "metadata": {},
   "outputs": [
    {
     "name": "stdout",
     "output_type": "stream",
     "text": [
      "DATE : False\n",
      "STORE_NBR : False\n",
      "LYLTY_CARD_NBR : False\n",
      "TXN_ID : False\n",
      "PROD_NBR : False\n",
      "PROD_NAME : False\n",
      "PROD_QTY : False\n",
      "TOT_SALES : False\n",
      "PACK_SIZE : False\n",
      "BRAND_NAME : False\n",
      "LIFESTAGE : False\n",
      "PREMIUM_CUSTOMER : False\n"
     ]
    }
   ],
   "source": [
    "#Checking if any column has a null value(NaN)?\n",
    "\n",
    "df_merged_columns = df_merged.columns\n",
    "\n",
    "for val in df_merged_columns:\n",
    "    print(val+' : '+str(df_merged[val].isnull().values.any()))\n",
    "    \n",
    "#Hence we conclude that all the values from both the DataFrames were matched with each other correctly."
   ]
  },
  {
   "cell_type": "code",
   "execution_count": 37,
   "metadata": {},
   "outputs": [],
   "source": [
    "#Saving this Dataframe for utilization in further tasks.\n",
    "\n",
    "df_merged.to_csv('QVI_data.csv',index=False)"
   ]
  },
  {
   "cell_type": "markdown",
   "metadata": {},
   "source": [
    "Now that the data is ready for analysis, we can define some metrics of interest to\n",
    "the client:\n",
    "\n",
    "- Who spends the most on chips (total sales), describing customers by lifestage and\n",
    "  how premium their general purchasing behaviour is\n",
    "- How many customers are in each segment\n",
    "- How many chips are bought per customer by segment\n",
    "- What's the average chip price by customer segment"
   ]
  },
  {
   "cell_type": "code",
   "execution_count": 38,
   "metadata": {},
   "outputs": [
    {
     "data": {
      "text/html": [
       "<div>\n",
       "<style scoped>\n",
       "    .dataframe tbody tr th:only-of-type {\n",
       "        vertical-align: middle;\n",
       "    }\n",
       "\n",
       "    .dataframe tbody tr th {\n",
       "        vertical-align: top;\n",
       "    }\n",
       "\n",
       "    .dataframe thead th {\n",
       "        text-align: right;\n",
       "    }\n",
       "</style>\n",
       "<table border=\"1\" class=\"dataframe\">\n",
       "  <thead>\n",
       "    <tr style=\"text-align: right;\">\n",
       "      <th></th>\n",
       "      <th></th>\n",
       "      <th>STORE_NBR</th>\n",
       "      <th>LYLTY_CARD_NBR</th>\n",
       "      <th>TXN_ID</th>\n",
       "      <th>PROD_NBR</th>\n",
       "      <th>PROD_QTY</th>\n",
       "      <th>TOT_SALES</th>\n",
       "      <th>PACK_SIZE</th>\n",
       "    </tr>\n",
       "    <tr>\n",
       "      <th>LIFESTAGE</th>\n",
       "      <th>PREMIUM_CUSTOMER</th>\n",
       "      <th></th>\n",
       "      <th></th>\n",
       "      <th></th>\n",
       "      <th></th>\n",
       "      <th></th>\n",
       "      <th></th>\n",
       "      <th></th>\n",
       "    </tr>\n",
       "  </thead>\n",
       "  <tbody>\n",
       "    <tr>\n",
       "      <th rowspan=\"3\" valign=\"top\">MIDAGE SINGLES/COUPLES</th>\n",
       "      <th>Budget</th>\n",
       "      <td>641330</td>\n",
       "      <td>644440514</td>\n",
       "      <td>642288813</td>\n",
       "      <td>268427</td>\n",
       "      <td>8883</td>\n",
       "      <td>33345.70</td>\n",
       "      <td>817091</td>\n",
       "    </tr>\n",
       "    <tr>\n",
       "      <th>Mainstream</th>\n",
       "      <td>1496281</td>\n",
       "      <td>1500774290</td>\n",
       "      <td>1500385149</td>\n",
       "      <td>615380</td>\n",
       "      <td>21213</td>\n",
       "      <td>84734.25</td>\n",
       "      <td>1973786</td>\n",
       "    </tr>\n",
       "    <tr>\n",
       "      <th>Premium</th>\n",
       "      <td>1033933</td>\n",
       "      <td>1039707670</td>\n",
       "      <td>1034352880</td>\n",
       "      <td>428798</td>\n",
       "      <td>14400</td>\n",
       "      <td>54443.85</td>\n",
       "      <td>1328944</td>\n",
       "    </tr>\n",
       "    <tr>\n",
       "      <th rowspan=\"3\" valign=\"top\">NEW FAMILIES</th>\n",
       "      <th>Budget</th>\n",
       "      <td>380365</td>\n",
       "      <td>380867986</td>\n",
       "      <td>380789234</td>\n",
       "      <td>160008</td>\n",
       "      <td>5241</td>\n",
       "      <td>20607.45</td>\n",
       "      <td>493541</td>\n",
       "    </tr>\n",
       "    <tr>\n",
       "      <th>Mainstream</th>\n",
       "      <td>287481</td>\n",
       "      <td>288014877</td>\n",
       "      <td>287803734</td>\n",
       "      <td>121152</td>\n",
       "      <td>4060</td>\n",
       "      <td>15979.70</td>\n",
       "      <td>383751</td>\n",
       "    </tr>\n",
       "    <tr>\n",
       "      <th>Premium</th>\n",
       "      <td>201835</td>\n",
       "      <td>202109224</td>\n",
       "      <td>201992124</td>\n",
       "      <td>85084</td>\n",
       "      <td>2769</td>\n",
       "      <td>10760.80</td>\n",
       "      <td>260765</td>\n",
       "    </tr>\n",
       "    <tr>\n",
       "      <th rowspan=\"3\" valign=\"top\">OLDER FAMILIES</th>\n",
       "      <th>Budget</th>\n",
       "      <td>2881588</td>\n",
       "      <td>2891942530</td>\n",
       "      <td>2881775837</td>\n",
       "      <td>1209817</td>\n",
       "      <td>41853</td>\n",
       "      <td>156863.75</td>\n",
       "      <td>3776704</td>\n",
       "    </tr>\n",
       "    <tr>\n",
       "      <th>Mainstream</th>\n",
       "      <td>1780625</td>\n",
       "      <td>1782766792</td>\n",
       "      <td>1780679553</td>\n",
       "      <td>748698</td>\n",
       "      <td>25804</td>\n",
       "      <td>96413.55</td>\n",
       "      <td>2319501</td>\n",
       "    </tr>\n",
       "    <tr>\n",
       "      <th>Premium</th>\n",
       "      <td>1403359</td>\n",
       "      <td>1404881088</td>\n",
       "      <td>1403077688</td>\n",
       "      <td>590961</td>\n",
       "      <td>20239</td>\n",
       "      <td>75242.60</td>\n",
       "      <td>1815581</td>\n",
       "    </tr>\n",
       "    <tr>\n",
       "      <th rowspan=\"3\" valign=\"top\">OLDER SINGLES/COUPLES</th>\n",
       "      <th>Budget</th>\n",
       "      <td>2318353</td>\n",
       "      <td>2332495098</td>\n",
       "      <td>2320298702</td>\n",
       "      <td>967613</td>\n",
       "      <td>32883</td>\n",
       "      <td>127833.60</td>\n",
       "      <td>3010847</td>\n",
       "    </tr>\n",
       "    <tr>\n",
       "      <th>Mainstream</th>\n",
       "      <td>2265662</td>\n",
       "      <td>2279764274</td>\n",
       "      <td>2266525908</td>\n",
       "      <td>966120</td>\n",
       "      <td>32607</td>\n",
       "      <td>124648.50</td>\n",
       "      <td>2982470</td>\n",
       "    </tr>\n",
       "    <tr>\n",
       "      <th>Premium</th>\n",
       "      <td>2222527</td>\n",
       "      <td>2228223157</td>\n",
       "      <td>2223619531</td>\n",
       "      <td>926743</td>\n",
       "      <td>31695</td>\n",
       "      <td>123537.55</td>\n",
       "      <td>2922601</td>\n",
       "    </tr>\n",
       "    <tr>\n",
       "      <th rowspan=\"3\" valign=\"top\">RETIREES</th>\n",
       "      <th>Budget</th>\n",
       "      <td>1917631</td>\n",
       "      <td>1927702126</td>\n",
       "      <td>1918399243</td>\n",
       "      <td>795190</td>\n",
       "      <td>26932</td>\n",
       "      <td>105916.30</td>\n",
       "      <td>2509228</td>\n",
       "    </tr>\n",
       "    <tr>\n",
       "      <th>Mainstream</th>\n",
       "      <td>2745301</td>\n",
       "      <td>2753153856</td>\n",
       "      <td>2746520511</td>\n",
       "      <td>1121770</td>\n",
       "      <td>37677</td>\n",
       "      <td>145168.95</td>\n",
       "      <td>3499017</td>\n",
       "    </tr>\n",
       "    <tr>\n",
       "      <th>Premium</th>\n",
       "      <td>1655552</td>\n",
       "      <td>1660094379</td>\n",
       "      <td>1657119016</td>\n",
       "      <td>690206</td>\n",
       "      <td>23266</td>\n",
       "      <td>91296.65</td>\n",
       "      <td>2158044</td>\n",
       "    </tr>\n",
       "    <tr>\n",
       "      <th rowspan=\"3\" valign=\"top\">YOUNG FAMILIES</th>\n",
       "      <th>Budget</th>\n",
       "      <td>2410844</td>\n",
       "      <td>2415761554</td>\n",
       "      <td>2412063244</td>\n",
       "      <td>1010965</td>\n",
       "      <td>34482</td>\n",
       "      <td>129717.95</td>\n",
       "      <td>3116691</td>\n",
       "    </tr>\n",
       "    <tr>\n",
       "      <th>Mainstream</th>\n",
       "      <td>1634618</td>\n",
       "      <td>1641169212</td>\n",
       "      <td>1635696850</td>\n",
       "      <td>686662</td>\n",
       "      <td>23194</td>\n",
       "      <td>86338.25</td>\n",
       "      <td>2081192</td>\n",
       "    </tr>\n",
       "    <tr>\n",
       "      <th>Premium</th>\n",
       "      <td>1457226</td>\n",
       "      <td>1461126913</td>\n",
       "      <td>1458192325</td>\n",
       "      <td>609895</td>\n",
       "      <td>20901</td>\n",
       "      <td>78571.70</td>\n",
       "      <td>1883523</td>\n",
       "    </tr>\n",
       "    <tr>\n",
       "      <th rowspan=\"3\" valign=\"top\">YOUNG SINGLES/COUPLES</th>\n",
       "      <th>Budget</th>\n",
       "      <td>1154509</td>\n",
       "      <td>1158321877</td>\n",
       "      <td>1154747066</td>\n",
       "      <td>487920</td>\n",
       "      <td>15500</td>\n",
       "      <td>57122.10</td>\n",
       "      <td>1486378</td>\n",
       "    </tr>\n",
       "    <tr>\n",
       "      <th>Mainstream</th>\n",
       "      <td>2624060</td>\n",
       "      <td>2637061979</td>\n",
       "      <td>2625680359</td>\n",
       "      <td>1079249</td>\n",
       "      <td>36225</td>\n",
       "      <td>147582.20</td>\n",
       "      <td>3485560</td>\n",
       "    </tr>\n",
       "    <tr>\n",
       "      <th>Premium</th>\n",
       "      <td>809246</td>\n",
       "      <td>810354894</td>\n",
       "      <td>810057414</td>\n",
       "      <td>333687</td>\n",
       "      <td>10575</td>\n",
       "      <td>39052.30</td>\n",
       "      <td>1018263</td>\n",
       "    </tr>\n",
       "  </tbody>\n",
       "</table>\n",
       "</div>"
      ],
      "text/plain": [
       "                                         STORE_NBR  LYLTY_CARD_NBR  \\\n",
       "LIFESTAGE              PREMIUM_CUSTOMER                              \n",
       "MIDAGE SINGLES/COUPLES Budget               641330       644440514   \n",
       "                       Mainstream          1496281      1500774290   \n",
       "                       Premium             1033933      1039707670   \n",
       "NEW FAMILIES           Budget               380365       380867986   \n",
       "                       Mainstream           287481       288014877   \n",
       "                       Premium              201835       202109224   \n",
       "OLDER FAMILIES         Budget              2881588      2891942530   \n",
       "                       Mainstream          1780625      1782766792   \n",
       "                       Premium             1403359      1404881088   \n",
       "OLDER SINGLES/COUPLES  Budget              2318353      2332495098   \n",
       "                       Mainstream          2265662      2279764274   \n",
       "                       Premium             2222527      2228223157   \n",
       "RETIREES               Budget              1917631      1927702126   \n",
       "                       Mainstream          2745301      2753153856   \n",
       "                       Premium             1655552      1660094379   \n",
       "YOUNG FAMILIES         Budget              2410844      2415761554   \n",
       "                       Mainstream          1634618      1641169212   \n",
       "                       Premium             1457226      1461126913   \n",
       "YOUNG SINGLES/COUPLES  Budget              1154509      1158321877   \n",
       "                       Mainstream          2624060      2637061979   \n",
       "                       Premium              809246       810354894   \n",
       "\n",
       "                                             TXN_ID  PROD_NBR  PROD_QTY  \\\n",
       "LIFESTAGE              PREMIUM_CUSTOMER                                   \n",
       "MIDAGE SINGLES/COUPLES Budget             642288813    268427      8883   \n",
       "                       Mainstream        1500385149    615380     21213   \n",
       "                       Premium           1034352880    428798     14400   \n",
       "NEW FAMILIES           Budget             380789234    160008      5241   \n",
       "                       Mainstream         287803734    121152      4060   \n",
       "                       Premium            201992124     85084      2769   \n",
       "OLDER FAMILIES         Budget            2881775837   1209817     41853   \n",
       "                       Mainstream        1780679553    748698     25804   \n",
       "                       Premium           1403077688    590961     20239   \n",
       "OLDER SINGLES/COUPLES  Budget            2320298702    967613     32883   \n",
       "                       Mainstream        2266525908    966120     32607   \n",
       "                       Premium           2223619531    926743     31695   \n",
       "RETIREES               Budget            1918399243    795190     26932   \n",
       "                       Mainstream        2746520511   1121770     37677   \n",
       "                       Premium           1657119016    690206     23266   \n",
       "YOUNG FAMILIES         Budget            2412063244   1010965     34482   \n",
       "                       Mainstream        1635696850    686662     23194   \n",
       "                       Premium           1458192325    609895     20901   \n",
       "YOUNG SINGLES/COUPLES  Budget            1154747066    487920     15500   \n",
       "                       Mainstream        2625680359   1079249     36225   \n",
       "                       Premium            810057414    333687     10575   \n",
       "\n",
       "                                         TOT_SALES  PACK_SIZE  \n",
       "LIFESTAGE              PREMIUM_CUSTOMER                        \n",
       "MIDAGE SINGLES/COUPLES Budget             33345.70     817091  \n",
       "                       Mainstream         84734.25    1973786  \n",
       "                       Premium            54443.85    1328944  \n",
       "NEW FAMILIES           Budget             20607.45     493541  \n",
       "                       Mainstream         15979.70     383751  \n",
       "                       Premium            10760.80     260765  \n",
       "OLDER FAMILIES         Budget            156863.75    3776704  \n",
       "                       Mainstream         96413.55    2319501  \n",
       "                       Premium            75242.60    1815581  \n",
       "OLDER SINGLES/COUPLES  Budget            127833.60    3010847  \n",
       "                       Mainstream        124648.50    2982470  \n",
       "                       Premium           123537.55    2922601  \n",
       "RETIREES               Budget            105916.30    2509228  \n",
       "                       Mainstream        145168.95    3499017  \n",
       "                       Premium            91296.65    2158044  \n",
       "YOUNG FAMILIES         Budget            129717.95    3116691  \n",
       "                       Mainstream         86338.25    2081192  \n",
       "                       Premium            78571.70    1883523  \n",
       "YOUNG SINGLES/COUPLES  Budget             57122.10    1486378  \n",
       "                       Mainstream        147582.20    3485560  \n",
       "                       Premium            39052.30    1018263  "
      ]
     },
     "execution_count": 38,
     "metadata": {},
     "output_type": "execute_result"
    }
   ],
   "source": [
    "#Grouping on the basis of Lifestage and Premium customers\n",
    "\n",
    "df_grouped = df_merged.groupby(['LIFESTAGE','PREMIUM_CUSTOMER']).sum()\n",
    "\n",
    "df_grouped"
   ]
  },
  {
   "cell_type": "code",
   "execution_count": 39,
   "metadata": {},
   "outputs": [
    {
     "data": {
      "text/plain": [
       "Text(0.5, 1.0, 'Total sales based upon Lifestage and Premium Customer')"
      ]
     },
     "execution_count": 39,
     "metadata": {},
     "output_type": "execute_result"
    },
    {
     "data": {
      "image/png": "[encoded data removed]",
      "text/plain": [
       "<Figure size 720x648 with 1 Axes>"
      ]
     },
     "metadata": {
      "needs_background": "light"
     },
     "output_type": "display_data"
    }
   ],
   "source": [
    "#Total sales plotted based upon lifestage and premium customers\n",
    "\n",
    "index = df_grouped.index\n",
    "values = df_grouped[\"TOT_SALES\"]\n",
    "\n",
    "result = []\n",
    "for t in index: \n",
    "    result.append(t[0]+\"__\"+t[1])\n",
    "    \n",
    "plt.figure(figsize=(10,9))\n",
    "plt.barh(result,values,color='lightblue')\n",
    "plt.xlabel('Total Sales',fontsize=14)\n",
    "plt.title('Total sales based upon Lifestage and Premium Customer',fontsize=14)\n",
    "  "
   ]
  },
  {
   "cell_type": "code",
   "execution_count": 40,
   "metadata": {},
   "outputs": [],
   "source": [
    "#Getting number of memebers present in each group.\n",
    "\n",
    "group_count= pd.Series(df_merged.groupby(['LIFESTAGE', 'PREMIUM_CUSTOMER'])['DATE'].count())\n",
    "df_grouped['CUSTOMER_COUNT'] =  group_count.values"
   ]
  },
  {
   "cell_type": "code",
   "execution_count": 41,
   "metadata": {},
   "outputs": [],
   "source": [
    "#Collecting number of all premium, budget and mainstream customers seprately.\n",
    "#also calculating their total\n",
    "\n",
    "lifestage = ['MIDAGE SINGLES/COUPLES','NEW FAMILIES','OLDER FAMILIES','OLDER SINGLES/COUPLES','RETIREES','YOUNG FAMILIES','YOUNG SINGLES/COUPLES']\n",
    "Premium = []\n",
    "Budget = []\n",
    "Mainstream = []\n",
    "all_values = []\n",
    "for index,value in group_count.iteritems():\n",
    "    if(index[1] == 'Premium'):\n",
    "        Premium.append(value)\n",
    "        all_values.append(value)\n",
    "    elif(index[1] == 'Mainstream'):\n",
    "        Mainstream.append(value)\n",
    "        all_values.append(value)\n",
    "    elif(index[1] == 'Budget'):\n",
    "        Budget.append(value)\n",
    "        all_values.append(value)\n",
    "\n",
    "Total = sum(all_values)\n",
    "   "
   ]
  },
  {
   "cell_type": "code",
   "execution_count": 42,
   "metadata": {},
   "outputs": [
    {
     "data": {
      "image/png": "[encoded data removed]",
      "text/plain": [
       "<Figure size 1008x576 with 1 Axes>"
      ]
     },
     "metadata": {
      "needs_background": "light"
     },
     "output_type": "display_data"
    }
   ],
   "source": [
    "#Creating a dataframe based upon number of premium,budget and mainstream customersnumber of premium,budget and mainstream customers and calculating further for text annotation.\n",
    "#Note: Here the percentage is calculated based upon number of customers in that group to total cutsomers.\n",
    "\n",
    "df = pd.DataFrame({'Lifestage':lifestage,\n",
    "                  'Budget': Budget,\n",
    "                  'Mainstream': Mainstream,\n",
    "                  'Premium':Premium})\n",
    "\n",
    "ax_1 = df.set_index('Lifestage').plot(kind='barh', stacked=True,figsize = (14,8))\n",
    "\n",
    "percentage_premium = []\n",
    "percentage_budget = []\n",
    "percentage_mainstream = []\n",
    "\n",
    "for index,row in df.iterrows():\n",
    "    percentage_premium.append(round((row['Premium']/Total)*100,1))\n",
    "    percentage_budget.append(round((row['Budget']/Total)*100,1))\n",
    "    percentage_mainstream.append(round((row['Mainstream']/Total)*100,1))\n",
    "    \n",
    "all_percentage = percentage_budget+percentage_mainstream+percentage_premium\n",
    "\n",
    "count=-1\n",
    "for rec in ax_1.patches:\n",
    "    height = rec.get_height()\n",
    "    width = rec.get_width()\n",
    "    count = count+1\n",
    "    ax_1.text(rec.get_x() + rec.get_width() / 2, \n",
    "              rec.get_y() + height / 2,\n",
    "              \"{:.1f}%\".format(all_percentage[count]),\n",
    "              ha='center', \n",
    "              va='bottom')\n",
    "    \n",
    "plt.title('Percentage of premium, budget and mainstream customers',fontsize=16);"
   ]
  },
  {
   "cell_type": "markdown",
   "metadata": {},
   "source": [
    "There are more Mainstream - young singles/couples and Mainstream - retirees who buy\n",
    "chips. This contributes to there being more sales to these customer segments but\n",
    "this is not a major driver for the Budget - Older families segment."
   ]
  },
  {
   "cell_type": "markdown",
   "metadata": {},
   "source": [
    "Higher sales may also be driven by more units of chips being bought per customer.\n",
    "Let's have a look at this next."
   ]
  },
  {
   "cell_type": "code",
   "execution_count": 43,
   "metadata": {},
   "outputs": [],
   "source": [
    "#Calculating and plotting the average number of units per customer by those two dimensions.\n",
    "df_grouped['UNITS_PER_CUSTOMER'] = df_grouped['PROD_QTY']/df_grouped['CUSTOMER_COUNT']\n"
   ]
  },
  {
   "cell_type": "code",
   "execution_count": 44,
   "metadata": {},
   "outputs": [],
   "source": [
    "average_chips_series = pd.Series(df_grouped['UNITS_PER_CUSTOMER'])\n",
    "\n",
    "lifestage_qty = ['MIDAGE SINGLES/COUPLES','NEW FAMILIES','OLDER FAMILIES','OLDER SINGLES/COUPLES','RETIREES','YOUNG FAMILIES','YOUNG SINGLES/COUPLES']\n",
    "Premium_qty = []\n",
    "Budget_qty = []\n",
    "Mainstream_qty = []\n",
    "all_values_qty = []\n",
    "for index,value in average_chips_series.iteritems():\n",
    "    if(index[1] == 'Premium'):\n",
    "        Premium_qty.append(value)\n",
    "        all_values_qty.append(value)\n",
    "    elif(index[1] == 'Mainstream'):\n",
    "        Mainstream_qty.append(value)\n",
    "        all_values_qty.append(value)\n",
    "    elif(index[1] == 'Budget'):\n",
    "        Budget_qty.append(value)\n",
    "        all_values_qty.append(value)\n",
    "\n",
    "Total = sum(all_values_qty)\n"
   ]
  },
  {
   "cell_type": "code",
   "execution_count": 45,
   "metadata": {},
   "outputs": [
    {
     "data": {
      "image/png": "[encoded data removed]",
      "text/plain": [
       "<Figure size 1008x576 with 1 Axes>"
      ]
     },
     "metadata": {
      "needs_background": "light"
     },
     "output_type": "display_data"
    }
   ],
   "source": [
    "df_qty = pd.DataFrame({'Lifestage':lifestage_qty,\n",
    "                  'Budget': Budget_qty,\n",
    "                  'Mainstream': Mainstream_qty,\n",
    "                  'Premium':Premium_qty})\n",
    "\n",
    "ax_1 = df_qty.set_index('Lifestage').plot(kind='barh', stacked=True,figsize = (14,8))\n",
    "\n",
    "all_qty = Budget_qty+Mainstream_qty+Premium_qty\n",
    "\n",
    "count=-1\n",
    "for rec in ax_1.patches:\n",
    "    height = rec.get_height()\n",
    "    width = rec.get_width()\n",
    "    count = count+1\n",
    "    ax_1.text(rec.get_x() + rec.get_width() / 2, \n",
    "              rec.get_y() + height / 2,\n",
    "              \"{:.3f} units\".format(all_qty[count]),\n",
    "              ha='center', \n",
    "              va='bottom')\n",
    "    \n",
    "plt.title('Quantity of chip packets bought',fontsize=16);"
   ]
  },
  {
   "cell_type": "markdown",
   "metadata": {},
   "source": [
    "This shows the average unit of chips bought by each category.\n",
    "Older families and young families in general buy more chips per customer"
   ]
  },
  {
   "cell_type": "code",
   "execution_count": 46,
   "metadata": {},
   "outputs": [],
   "source": [
    "#Calculating and plotting the average price per chips packet by those two dimensions.\n",
    "df_grouped['PRICE_PER_UNIT'] = df_grouped['TOT_SALES']/df_grouped['PROD_QTY']\n"
   ]
  },
  {
   "cell_type": "code",
   "execution_count": 47,
   "metadata": {},
   "outputs": [],
   "source": [
    "average_price_series = pd.Series(df_grouped['PRICE_PER_UNIT'])\n",
    "\n",
    "lifestage_price = ['MIDAGE SINGLES/COUPLES','NEW FAMILIES','OLDER FAMILIES','OLDER SINGLES/COUPLES','RETIREES','YOUNG FAMILIES','YOUNG SINGLES/COUPLES']\n",
    "Premium_price = []\n",
    "Budget_price = []\n",
    "Mainstream_price = []\n",
    "all_values_price = []\n",
    "for index,value in average_price_series.iteritems():\n",
    "    if(index[1] == 'Premium'):\n",
    "        Premium_price.append(value)\n",
    "        all_values_price.append(value)\n",
    "    elif(index[1] == 'Mainstream'):\n",
    "        Mainstream_price.append(value)\n",
    "        all_values_price.append(value)\n",
    "    elif(index[1] == 'Budget'):\n",
    "        Budget_price.append(value)\n",
    "        all_values_price.append(value)\n",
    "\n",
    "Total = sum(all_values_price)"
   ]
  },
  {
   "cell_type": "code",
   "execution_count": 48,
   "metadata": {},
   "outputs": [
    {
     "data": {
      "image/png": "[encoded data removed]",
      "text/plain": [
       "<Figure size 1008x576 with 1 Axes>"
      ]
     },
     "metadata": {
      "needs_background": "light"
     },
     "output_type": "display_data"
    }
   ],
   "source": [
    "df_price = pd.DataFrame({'Lifestage':lifestage_price,\n",
    "                  'Budget': Budget_price,\n",
    "                  'Mainstream': Mainstream_price,\n",
    "                  'Premium':Premium_price})\n",
    "\n",
    "ax_1 = df_price.set_index('Lifestage').plot(kind='barh', stacked=True,figsize = (14,8))\n",
    "\n",
    "all_price = Budget_price+Mainstream_price+Premium_price\n",
    "\n",
    "count=-1\n",
    "for rec in ax_1.patches:\n",
    "    height = rec.get_height()\n",
    "    width = rec.get_width()\n",
    "    count = count+1\n",
    "    ax_1.text(rec.get_x() + rec.get_width() / 2, \n",
    "              rec.get_y() + height / 2,\n",
    "              \"{:.3f} dollars\".format(all_price[count]),\n",
    "              ha='center', \n",
    "              va='bottom')\n",
    "    \n",
    "plt.title('Average sale price',fontsize=16);"
   ]
  },
  {
   "cell_type": "markdown",
   "metadata": {},
   "source": [
    "Mainstream midage and young singles and couples are more willing to pay more per\n",
    "packet of chips compared to their budget and premium counterparts. This may be due\n",
    "to premium shoppers being more likely to buy healthy snacks and when they buy\n",
    "chips, this is mainly for entertainment purposes rather than their own consumption.\n",
    "This is also supported by there being fewer premium midage and young singles and\n",
    "couples buying chips compared to their mainstream counterparts.\n"
   ]
  },
  {
   "cell_type": "code",
   "execution_count": 49,
   "metadata": {},
   "outputs": [],
   "source": [
    "unique_customers = pd.Series(df_merged.groupby(['LIFESTAGE','PREMIUM_CUSTOMER'])['LYLTY_CARD_NBR'].unique())\n",
    "count = []\n",
    "indices = []\n",
    "\n",
    "for index,value in unique_customers.iteritems():\n",
    "    count.append(len(value))\n",
    "    indices.append(index[0]+'__'+index[1])\n",
    "   "
   ]
  },
  {
   "cell_type": "code",
   "execution_count": 50,
   "metadata": {},
   "outputs": [
    {
     "data": {
      "image/png": "[encoded data removed]",
      "text/plain": [
       "<Figure size 720x648 with 1 Axes>"
      ]
     },
     "metadata": {
      "needs_background": "light"
     },
     "output_type": "display_data"
    }
   ],
   "source": [
    "plt.figure(figsize=(10,9))\n",
    "plt.barh(indices,count,color='lightblue')\n",
    "plt.xlabel('Number of unique customers',fontsize=14)\n",
    "plt.title('Number of uniques customers in each category',fontsize=14);"
   ]
  },
  {
   "cell_type": "markdown",
   "metadata": {},
   "source": [
    "Young sigle/couples have large number of unique customers and the average price they spend upon each chip packet is also large and the average quantity of chip packets bought is also resonable.\n",
    "\n",
    "Midage singles/couples have lesser customers but their average price spent of chips packets and the quantity of chip packets bought is almost same as Young singls/couples.\n",
    "\n",
    "New Families (premium,budget,mainstream) have the least number of customers and leat number of unique customers but their average sale price is comparatively high"
   ]
  },
  {
   "cell_type": "code",
   "execution_count": 51,
   "metadata": {},
   "outputs": [],
   "source": [
    "df_ptest_1 = df_merged[(df_merged['LIFESTAGE'] == 'YOUNG SINGLES/COUPLES') | (df_merged['LIFESTAGE'] == 'MIDAGE SINGLES/COUPLES')]\n",
    "\n",
    "sales_mainstream_series = pd.Series(df_ptest_1['TOT_SALES'][df_ptest_1['PREMIUM_CUSTOMER'] == 'Mainstream'])\n",
    "sales_budget_premium_series = pd.Series(df_ptest_1['TOT_SALES'][(df_ptest_1['PREMIUM_CUSTOMER'] == 'Budget') | (df_ptest_1['PREMIUM_CUSTOMER'] == 'Premium')])\n",
    "\n",
    "\n",
    "mainstream_list = []\n",
    "budget_premium_list = []\n",
    "for index,value in sales_mainstream_series.iteritems():\n",
    "    mainstream_list.append(value)\n",
    "    \n",
    "for index,value in sales_budget_premium_series.iteritems():\n",
    "    budget_premium_list.append(value)\n",
    "    "
   ]
  },
  {
   "cell_type": "code",
   "execution_count": 52,
   "metadata": {},
   "outputs": [
    {
     "name": "stdout",
     "output_type": "stream",
     "text": [
      "Pvalue is 1.834645908183037e-237\n"
     ]
    },
    {
     "data": {
      "text/plain": [
       "True"
      ]
     },
     "execution_count": 52,
     "metadata": {},
     "output_type": "execute_result"
    }
   ],
   "source": [
    "from scipy.stats import ttest_ind\n",
    "\n",
    "stat,pvalue = ttest_ind(mainstream_list,budget_premium_list,equal_var=False)\n",
    "\n",
    "print('Pvalue is {}'.format(pvalue))\n",
    "pvalue<0.00000000001"
   ]
  },
  {
   "cell_type": "markdown",
   "metadata": {},
   "source": [
    "The t-test results in a p-value of almost 0, i.e. the Total sales for mainstream,\n",
    "young and mid-age singles and couples ARE significantly higher than\n",
    "that of budget or premium, young and midage singles and couples."
   ]
  },
  {
   "cell_type": "markdown",
   "metadata": {},
   "source": [
    "We have found quite a few interesting insights that we can dive deeper into. \n",
    "We might want to target customer segments that contribute the most to sales to\n",
    "retain them or further increase sales. Let's look at Mainstream - young\n",
    "singles/couples. For instance, let's find out if they tend to buy a particular\n",
    "brand of chips."
   ]
  },
  {
   "cell_type": "code",
   "execution_count": 53,
   "metadata": {},
   "outputs": [
    {
     "data": {
      "text/plain": [
       "544"
      ]
     },
     "execution_count": 53,
     "metadata": {},
     "output_type": "execute_result"
    }
   ],
   "source": [
    "#INSIGHTS UPON MAINSTREAM CUSTOMERS.\n",
    "\n",
    "\n",
    "df_mainstream = df_merged[df_merged['PREMIUM_CUSTOMER'] == 'Mainstream']\n",
    "\n",
    "mainstream_grouped = pd.Series(df_mainstream.groupby(['BRAND_NAME'])['LYLTY_CARD_NBR'])\n",
    "\n",
    "brand_names = []\n",
    "counts = []\n",
    "\n",
    "for index,value in mainstream_grouped.iteritems():\n",
    "    brand_names.append(value[0])\n",
    "    counts.append(len(value[1]))\n",
    "    \n",
    "brand_names.pop(14)\n",
    "counts.pop(14)\n"
   ]
  },
  {
   "cell_type": "code",
   "execution_count": 54,
   "metadata": {},
   "outputs": [
    {
     "data": {
      "image/png": "[encoded data removed]",
      "text/plain": [
       "<Figure size 720x648 with 1 Axes>"
      ]
     },
     "metadata": {
      "needs_background": "light"
     },
     "output_type": "display_data"
    }
   ],
   "source": [
    "plt.figure(figsize=(10,9))\n",
    "plt.barh(brand_names,counts,color='lightblue')\n",
    "plt.xlabel('Sales',fontsize=14)\n",
    "plt.title('Number of chips from each brand sold for mainstream people',fontsize=14);"
   ]
  },
  {
   "cell_type": "markdown",
   "metadata": {},
   "source": [
    "Here we can see that mainstream people buy Kettle brand chips the most. After kettle they prefer either Doritos or Smiths.\n",
    "\n",
    "Comapny's such as French, Snbites, Burger etc have extremly low sales for mainstream category people"
   ]
  },
  {
   "cell_type": "code",
   "execution_count": 55,
   "metadata": {},
   "outputs": [],
   "source": [
    "#INSIGHTS UPON YOUNG SINGLES/COUPLES\n",
    "\n",
    "df_young_premium = df_merged[(df_merged['LIFESTAGE'] == 'YOUNG SINGLES/COUPLES') &(df_merged['PREMIUM_CUSTOMER']=='Premium')]\n",
    "df_young_mainstream = df_merged[(df_merged['LIFESTAGE'] == 'YOUNG SINGLES/COUPLES') &(df_merged['PREMIUM_CUSTOMER']=='Mainstream')]\n",
    "df_young_budget = df_merged[(df_merged['LIFESTAGE'] == 'YOUNG SINGLES/COUPLES') &(df_merged['PREMIUM_CUSTOMER']=='Budget')]"
   ]
  },
  {
   "cell_type": "code",
   "execution_count": 56,
   "metadata": {},
   "outputs": [
    {
     "data": {
      "text/plain": [
       "41"
      ]
     },
     "execution_count": 56,
     "metadata": {},
     "output_type": "execute_result"
    }
   ],
   "source": [
    "#for PREMIUM\n",
    "\n",
    "premium_series = pd.Series(df_young_premium.groupby('BRAND_NAME')['LYLTY_CARD_NBR'].count())\n",
    "\n",
    "premium_series.sort_values(inplace=True)\n",
    "\n",
    "brand_names = []\n",
    "counts = []\n",
    "\n",
    "for index,value in premium_series.iteritems():\n",
    "    brand_names.append(index)\n",
    "    counts.append(value)\n",
    " \n",
    "brand_names.pop(0)\n",
    "counts.pop(0)\n"
   ]
  },
  {
   "cell_type": "code",
   "execution_count": 57,
   "metadata": {},
   "outputs": [
    {
     "data": {
      "image/png": "[encoded data removed]",
      "text/plain": [
       "<Figure size 720x648 with 1 Axes>"
      ]
     },
     "metadata": {
      "needs_background": "light"
     },
     "output_type": "display_data"
    }
   ],
   "source": [
    "plt.figure(figsize=(10,9))\n",
    "plt.barh(brand_names,counts,color='lightblue')\n",
    "plt.xlabel('Sales',fontsize=14)\n",
    "plt.title('Number of chips from each brand sold for Young single/couples - PREMIUM people',fontsize=14);"
   ]
  },
  {
   "cell_type": "code",
   "execution_count": 58,
   "metadata": {},
   "outputs": [],
   "source": [
    "#for MAINSTREAM\n",
    "\n",
    "mainstream_series = pd.Series(df_young_mainstream.groupby('BRAND_NAME')['LYLTY_CARD_NBR'].count())\n",
    "\n",
    "mainstream_series.sort_values(inplace=True)\n",
    "\n",
    "brand_names = []\n",
    "counts = []\n",
    "\n",
    "for index,value in mainstream_series.iteritems():\n",
    "    brand_names.append(index)\n",
    "    counts.append(value)\n",
    " "
   ]
  },
  {
   "cell_type": "code",
   "execution_count": 59,
   "metadata": {},
   "outputs": [
    {
     "data": {
      "image/png": "[encoded data removed]",
      "text/plain": [
       "<Figure size 720x648 with 1 Axes>"
      ]
     },
     "metadata": {
      "needs_background": "light"
     },
     "output_type": "display_data"
    }
   ],
   "source": [
    "plt.figure(figsize=(10,9))\n",
    "plt.barh(brand_names,counts,color='lightblue')\n",
    "plt.xlabel('Sales',fontsize=14)\n",
    "plt.title('Number of chips from each brand sold for Young single/couples - MAINSTREAM people',fontsize=14);"
   ]
  },
  {
   "cell_type": "code",
   "execution_count": 60,
   "metadata": {},
   "outputs": [],
   "source": [
    "#for BUDGET\n",
    "\n",
    "budget_series = pd.Series(df_young_budget.groupby('BRAND_NAME')['LYLTY_CARD_NBR'].count())\n",
    "\n",
    "budget_series.sort_values(inplace=True)\n",
    "\n",
    "brand_names = []\n",
    "counts = []\n",
    "\n",
    "for index,value in budget_series.iteritems():\n",
    "    brand_names.append(index)\n",
    "    counts.append(value)\n",
    " "
   ]
  },
  {
   "cell_type": "code",
   "execution_count": 61,
   "metadata": {},
   "outputs": [
    {
     "data": {
      "image/png": "[encoded data removed]",
      "text/plain": [
       "<Figure size 720x648 with 1 Axes>"
      ]
     },
     "metadata": {
      "needs_background": "light"
     },
     "output_type": "display_data"
    }
   ],
   "source": [
    "plt.figure(figsize=(10,9))\n",
    "plt.barh(brand_names,counts,color='lightblue')\n",
    "plt.xlabel('Sales',fontsize=14)\n",
    "plt.title('Number of chips from each brand sold for Young single/couples - BUDGET people',fontsize=14);"
   ]
  },
  {
   "cell_type": "code",
   "execution_count": 104,
   "metadata": {},
   "outputs": [
    {
     "name": "stdout",
     "output_type": "stream",
     "text": [
      "Most frequently bought pack size for MAINSTREAM people is 175g\n"
     ]
    }
   ],
   "source": [
    "#Most bought pack size for mainstream people\n",
    "import statistics\n",
    "from statistics import mode\n",
    "\n",
    "brands_mstream = df_mainstream['PROD_NAME']\n",
    "\n",
    "pack_size_mstream = []\n",
    "\n",
    "for item in brands_mstream:\n",
    "    if(item == 'Kettle 135g Swt Pot Sea Salt'):\n",
    "        pack_size_mstream.append(int(item[7:10]))\n",
    "    else:\n",
    "        pack_size_mstream.append(int(item[-4:-1]))\n",
    "\n",
    "print('Most frequently bought pack size for MAINSTREAM people is {}g'.format(mode(pack_size_mstream)))"
   ]
  },
  {
   "cell_type": "code",
   "execution_count": 105,
   "metadata": {},
   "outputs": [
    {
     "data": {
      "image/png": "[encoded data removed]",
      "text/plain": [
       "<Figure size 720x360 with 1 Axes>"
      ]
     },
     "metadata": {
      "needs_background": "light"
     },
     "output_type": "display_data"
    }
   ],
   "source": [
    "#Histogram of all pack sizes\n",
    "\n",
    "plt.figure(figsize=(10,5))\n",
    "plt.hist(pack_size_mstream,color='lightseagreen')\n",
    "plt.xticks(rotation=60)\n",
    "plt.title(\"Pack sizes of mainstream people\",fontsize=14)\n",
    "plt.xlabel('Pack size in grams',fontsize=13)\n",
    "plt.ylabel('Frequency',fontsize=13);"
   ]
  },
  {
   "cell_type": "markdown",
   "metadata": {},
   "source": []
  },
  {
   "cell_type": "code",
   "execution_count": 102,
   "metadata": {},
   "outputs": [
    {
     "name": "stdout",
     "output_type": "stream",
     "text": [
      "Most frequently bought pack size for young premium people is 175g\n"
     ]
    }
   ],
   "source": [
    "#YOUNG - PREMIUM\n",
    "import statistics\n",
    "from statistics import mode\n",
    "\n",
    "\n",
    "brands_yp = df_young_premium['PROD_NAME']\n",
    "\n",
    "pack_size_yp = []\n",
    "\n",
    "for item in brands_yp:\n",
    "    if(item == 'Kettle 135g Swt Pot Sea Salt'):\n",
    "        pack_size_yp.append(int(item[7:10]))\n",
    "    else:\n",
    "        pack_size_yp.append(int(item[-4:-1]))\n",
    "\n",
    "print('Most frequently bought pack size for young premium people is {}g'.format(mode(pack_size_yp)))"
   ]
  },
  {
   "cell_type": "code",
   "execution_count": 108,
   "metadata": {},
   "outputs": [
    {
     "data": {
      "image/png": "[encoded data removed]",
      "text/plain": [
       "<Figure size 720x360 with 1 Axes>"
      ]
     },
     "metadata": {
      "needs_background": "light"
     },
     "output_type": "display_data"
    }
   ],
   "source": [
    "#Histogram of all pack sizes\n",
    "plt.figure(figsize=(10,5))\n",
    "plt.hist(pack_size_yp,color='yellowgreen')\n",
    "plt.xticks(rotation=60)\n",
    "plt.title(\"Pack sizes of Young(couples/singles)-PREMIUM people\",fontsize=14)\n",
    "plt.xlabel('Pack size in grams',fontsize=13)\n",
    "plt.ylabel('Frequency',fontsize=13);"
   ]
  },
  {
   "cell_type": "code",
   "execution_count": 106,
   "metadata": {},
   "outputs": [
    {
     "name": "stdout",
     "output_type": "stream",
     "text": [
      "Most frequently bought pack size for young mainstream people is 175g\n"
     ]
    }
   ],
   "source": [
    "#YOUNG - MAINSTREAM\n",
    "import statistics\n",
    "from statistics import mode\n",
    "\n",
    "\n",
    "brands_ym = df_young_mainstream['PROD_NAME']\n",
    "\n",
    "pack_size_ym = []\n",
    "\n",
    "for item in brands_ym:\n",
    "    if(item == 'Kettle 135g Swt Pot Sea Salt'):\n",
    "        pack_size_ym.append(int(item[7:10]))\n",
    "    else:\n",
    "        pack_size_ym.append(int(item[-4:-1]))\n",
    "\n",
    "print('Most frequently bought pack size for young mainstream people is {}g'.format(mode(pack_size_ym)))"
   ]
  },
  {
   "cell_type": "code",
   "execution_count": 107,
   "metadata": {},
   "outputs": [
    {
     "data": {
      "image/png": "[encoded data removed]",
      "text/plain": [
       "<Figure size 720x360 with 1 Axes>"
      ]
     },
     "metadata": {
      "needs_background": "light"
     },
     "output_type": "display_data"
    }
   ],
   "source": [
    "#Histogram of all pack sizes\n",
    "plt.figure(figsize=(10,5))\n",
    "plt.hist(pack_size_ym,color='darksalmon')\n",
    "plt.xticks(rotation=60)\n",
    "plt.title(\"Pack sizes of Young(couples/singles)-MAINSTREAM people\",fontsize=14)\n",
    "plt.xlabel('Pack size in grams',fontsize=13)\n",
    "plt.ylabel('Frequency',fontsize=13);"
   ]
  },
  {
   "cell_type": "code",
   "execution_count": 111,
   "metadata": {},
   "outputs": [
    {
     "name": "stdout",
     "output_type": "stream",
     "text": [
      "Most frequently bought pack size for young budget people is 175g\n"
     ]
    }
   ],
   "source": [
    "#YOUNG -BUDGET\n",
    "import statistics\n",
    "from statistics import mode\n",
    "\n",
    "\n",
    "brands_yb = df_young_budget['PROD_NAME']\n",
    "\n",
    "pack_size_yb = []\n",
    "\n",
    "for item in brands_yb:\n",
    "    if(item == 'Kettle 135g Swt Pot Sea Salt'):\n",
    "        pack_size_yb.append(int(item[7:10]))\n",
    "    else:\n",
    "        pack_size_yb.append(int(item[-4:-1]))\n",
    "\n",
    "print('Most frequently bought pack size for young budget people is {}g'.format(mode(pack_size_yb)))"
   ]
  },
  {
   "cell_type": "code",
   "execution_count": 112,
   "metadata": {},
   "outputs": [
    {
     "data": {
      "image/png": "[encoded data removed]",
      "text/plain": [
       "<Figure size 720x360 with 1 Axes>"
      ]
     },
     "metadata": {
      "needs_background": "light"
     },
     "output_type": "display_data"
    }
   ],
   "source": [
    "#Histogram of all pack sizes\n",
    "plt.figure(figsize=(10,5))\n",
    "plt.hist(pack_size_yb,color='steelblue')\n",
    "plt.xticks(rotation=60)\n",
    "plt.title(\"Pack sizes of Young(couples/singles)-MAINSTREAM people\",fontsize=14)\n",
    "plt.xlabel('Pack size in grams',fontsize=13)\n",
    "plt.ylabel('Frequency',fontsize=13);"
   ]
  },
  {
   "cell_type": "markdown",
   "metadata": {},
   "source": [
    "We can see that : \n",
    "\n",
    "[INSIGHTS]\n",
    "\n",
    "1.Kettles, Pringles, Doritos, Smiths are the brands which are loved by all customers of all age groups wether singles or couples. These brands are also affodable and genrally preffered by Budget , Mainstream and Premium all 3 of them.\n",
    "\n",
    "2.The sales to Young single/couple(mainstream),older families(budget), retirees(mainstream) is the highest.\n",
    "\n",
    "3.There are more Mainstream - young singles/couples and Mainstream - retirees who buy chips. This contributes to there being more sales to these customer segments but this is not a major driver for the Budget - Older families segment.\n",
    "\n",
    "4.The average quantity of chip packets bought by each category is almost the same.\n",
    "\n",
    "5.Young singles/couples(Mainstream), Retiress(mainstream) have the largest number of unique customers.\n",
    "\n",
    "6.Young sigle/couples have large number of unique customers and the average price they spend upon each chip packet is also large and the average quantity of chip packets bought is also resonable.\n",
    "\n",
    "7.Midage singles/couples have lesser customers but their average price spent of chips packets and the quantity of chip packets bought is almost same as Young singls/couples.\n",
    "\n",
    "8.New Families (premium,budget,mainstream) have the least number of customers and leat number of unique customers but their average sale price is comparatively high.\n",
    "\n",
    "9.The t-test results in a p-value of almost 0, i.e. the Total sales for mainstream, young and mid-age singles and couples ARE significantly higher than that of budget or premium, young and midage singles and couples.\n",
    "\n",
    "10.Most sold chips brands for mainstream people are Kettles,Smiths, Doritos, Pringles repectively.\n",
    "\n",
    "In depth insights about Young(singles/couples) as they are major customers.\n",
    "\n",
    "11.['French','Sunbites','Burger','Cheetos', 'Cheezels','Tyrrells', 'CCs','Grain Waves', 'Twisties', 'Tostitos','Natural Chip Co','Cobs','Infuzions', 'Thins', 'Woolworths', 'Red', 'Doritos', 'Pringles','Smiths', 'Kettle']\n",
    "\n",
    "From the least sold brands to the most sold brands for Young (single/couples) PREMIUM.\n",
    "\n",
    "12.['Sunbites', 'Burger', 'Snbts', 'French', 'Cheetos', 'CCs', 'Cheezels', 'Natural Chip Co', 'Woolworths', 'Tyrrells', 'Grain Waves', 'Cobs', 'Red', 'Tostitos', 'Twisties', 'Thins', 'Infuzions', 'Smiths', 'Pringles', 'Doritos', 'Kettle']\n",
    "\n",
    "From the least sold brands to the most sold brands for Young (single/couples) MAINSTREAM.\n",
    "\n",
    "13.['Burger', 'Sunbites', 'Snbts', 'French', 'Cheetos', 'Cheezels', 'Tyrrells', 'CCs', 'Grain Waves', 'Tostitos', 'Cobs', 'Twisties', 'Natural Chip Co', 'Infuzions', 'Thins', 'Woolworths', 'Red', 'Doritos', 'Pringles', 'Smiths', 'Kettle']\n",
    "\n",
    "14.Most frequently bought pack size for young budget,young mainstream,youn premium, all Mainstream people is 175g. The histogram trends for pack sizes of all groups is almost same(Tested ones with max customers).Hence we can say that the sale of packets of 175g is highest for all groups.\n",
    "\n"
   ]
  },
  {
   "cell_type": "code",
   "execution_count": null,
   "metadata": {},
   "outputs": [],
   "source": []
  }
 ],
 "metadata": {
  "kernelspec": {
   "display_name": "Python 3",
   "language": "python",
   "name": "python3"
  },
  "language_info": {
   "codemirror_mode": {
    "name": "ipython",
    "version": 3
   },
   "file_extension": ".py",
   "mimetype": "text/x-python",
   "name": "python",
   "nbconvert_exporter": "python",
   "pygments_lexer": "ipython3",
   "version": "3.8.3"
  }
 },
 "nbformat": 4,
 "nbformat_minor": 4
}
